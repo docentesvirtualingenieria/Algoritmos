{
  "nbformat": 4,
  "nbformat_minor": 0,
  "metadata": {
    "colab": {
      "provenance": [],
      "private_outputs": true,
      "toc_visible": true
    },
    "kernelspec": {
      "name": "python3",
      "display_name": "Python 3"
    }
  },
  "cells": [
    {
      "cell_type": "markdown",
      "source": [
        "<p><img alt=\"banner\" height=\"252px\" width=\"1080px\" src=\"https://docs.google.com/uc?export=download&id=1YJrz-tzQUkofEE37sRUdlCbnXf10gJlF\"  align=\"center\" hspace=\"10px\" vspace=\"0px\"></p>"
      ],
      "metadata": {
        "id": "-YBRthfd7xD9"
      }
    },
    {
      "cell_type": "markdown",
      "source": [
        "#<font color='056938'> **Introducción** </font>\n",
        "\n",
        "\n",
        "\n",
        "\n"
      ],
      "metadata": {
        "id": "hmWpqKdcGw-o"
      }
    },
    {
      "cell_type": "markdown",
      "source": [
        "Usualmente nos referimos a modularización al proceso de agrupar instrucciones de programación en componentes llamadas `módulos`, cada uno de los cuales realiza alguna tarea especifica y es en la medida de lo posible independiente de las demas componentes en que se divide el programa\n",
        "\n",
        "Algunas de las razones para modularizar un programa son: \n",
        "\n",
        "* Crear límites bien definidos y componentes en el programa\n",
        "* Facilitar la reutilización de componentes del programa\n",
        "* Reducir la complejidad y aumentar la legibilidad de un programa\n",
        "\n",
        "Una primera forma de modularización es la creación de funciones que ya hemos discutido en el curso\n",
        "\n"
      ],
      "metadata": {
        "id": "NoN-jfXN79Sa"
      }
    },
    {
      "cell_type": "markdown",
      "source": [
        "# <font color='056938'> **Funciones** </font>\n",
        "\n",
        "De manera general definiremos una función como un conjunto de instrucciones agrupadas con el fin de realizar una tarea especifica, para ello recibe unos elementos de entrada que denominamos argumentos o parámetros y retorna uno o varios valores de salida.  \n",
        "\n",
        "considere por ejemplo la siguiente función que recibe como argumentos dos tuplas las coordenadas (latitud y longitud) de dos puntos y retorna la distancia `ortodrómica` (a vuelo de pájaro), es decir la distancia más corta entre ellos ignorando cualquier accidente geografico o límte entre los puntos. \n",
        "\n",
        "![picture](https://docs.google.com/uc?export=download&id=1vZnwg2BRHrjI9HuLxxUnrsmI9wtlXwfT)\n",
        "\n",
        "La cual se expresa mediante la siguiente formula, en donde $\\phi$ y $\\lambda$ representan la latitud y longitud de cada punto en radianes. \n",
        "\n",
        "![picture](https://docs.google.com/uc?export=download&id=1IkXE6WBlRW6UCwjr2K6OZgRLA8YuPkB8)\n",
        "\n",
        "\n"
      ],
      "metadata": {
        "id": "OAx-RZlB8iNf"
      }
    },
    {
      "cell_type": "code",
      "source": [
        "import math\n",
        " \n",
        "def dist_ortodromica(coordenadas1, coordenadas2):\n",
        "    # El radio de la tierra en km.\n",
        "    R = 6378.137\n",
        " \n",
        "    # Conversión a radianes\n",
        "    lat1 = math.radians(coordenadas1[0])\n",
        "    lat2 = math.radians(coordenadas2[0])\n",
        "    lon1 = math.radians(coordenadas1[1])\n",
        "    lon2 = math.radians(coordenadas2[1])\n",
        " \n",
        "    lat_span = lat1 - lat2\n",
        "    lon_span = lon1 - lon2\n",
        " \n",
        "    a = math.sin(lat_span / 2) ** 2\n",
        "    b = math.cos(lat1)\n",
        "    c = math.cos(lat2)\n",
        "    d = math.sin(lon_span / 2) ** 2\n",
        " \n",
        "    dist = 2 * R * math.asin(math.sqrt(a + b * c * d))\n",
        " \n",
        "    return dist\n",
        "\n",
        "\n",
        "print(dist_ortodromica((47.449889, -122.311777), (25.252778, 55.364444)))"
      ],
      "metadata": {
        "id": "uIDS1uWWAhDe"
      },
      "execution_count": null,
      "outputs": []
    },
    {
      "cell_type": "markdown",
      "source": [
        "## <font color='157699'> **Ejemplo 1** </font>\n",
        "\n",
        "Asumiremos que tenemos una lista de 10 clientes de los que conocemos su ubicación (latitud y longitud) así como el valor de su compra. Deseamos calcular la distancia de cada cliente hasta nuestro almacen. Para ello usaremos la función creada"
      ],
      "metadata": {
        "id": "NccLJXh7GUJc"
      }
    },
    {
      "cell_type": "code",
      "source": [
        "from random import randint\n",
        "\n",
        "# ubicación del almacen \n",
        "almacen = (6.215433914915627, -75.5767501153441)\n",
        "\n",
        "# creamos aleatoriamente los 10 clientes\n",
        "clientes = [[i, (almacen[0] + randint(-1, 1)/10, almacen[1] + randint(-1, 1)/10)] for i in range(10)]\n",
        "\n",
        "# Agregamos a la lista asociada a cada cliente la distancia\n",
        "for cliente in clientes:\n",
        "  cliente.append(dist_ortodromica(almacen, cliente[1]))\n",
        "\n",
        "# imprimir clientes\n",
        "clientes"
      ],
      "metadata": {
        "id": "pt3GzVpXHCUx"
      },
      "execution_count": null,
      "outputs": []
    },
    {
      "cell_type": "markdown",
      "source": [
        "## <font color='46B8A9'> **Ejercicio 1** </font>\n",
        " \n",
        "\n",
        "Escriba una función que para dos puntos dados calcule la distancia euclideana entre ellos."
      ],
      "metadata": {
        "id": "n6T9nQ4aEkmi"
      }
    },
    {
      "cell_type": "code",
      "source": [
        "# Ingrese su respuesta aquí\n"
      ],
      "metadata": {
        "id": "moLg-646LRTi"
      },
      "execution_count": null,
      "outputs": []
    },
    {
      "cell_type": "markdown",
      "source": [
        "## <font color='46B8A9'> **Ejercicio 2** </font>\n",
        "Use la función creada para calcular la distancia euclideana entre cada cliente y el almacen "
      ],
      "metadata": {
        "id": "QHNJxCGMKMkQ"
      }
    },
    {
      "cell_type": "code",
      "source": [
        "# Ingrese su respuesta aquí\n",
        "\n"
      ],
      "metadata": {
        "id": "Olu29zg4AXNp"
      },
      "execution_count": null,
      "outputs": []
    },
    {
      "cell_type": "markdown",
      "source": [
        "# <font color='056938'> **Modulos** </font>\n",
        "\n",
        "Un `módulo` es un archivo de Python cuyos objetos (ej. funciones y clases) pueden ser accedidos desde otro archivo. Es una forma de organizar el código facilitando su mantenimiento. \n",
        "\n",
        "Un estrategia que comunmente se utiliza, consiste en agrupar funciones en módulos y tener otro módulo principal donde se desarrolla el código que los integra, invocando las funciones que están en cada uno.\n",
        "\n",
        "En nuestro caso podriamos crear un módulo `distancias` que agrupe las dos funciones de distancia que hasta ahora tenemos. El cual puede descargarse dando clic en siguiente [enlace](https://drive.google.com/file/d/1AZYKDu8eStmT6zXi15SdSFs4CX4p0tSl/view?usp=sharing).\n",
        "\n",
        "\n",
        "\n",
        "A modo ilustrativo note que podemos escribir un nuevo archivo de python en el cual cargamos el módulo anteriormente creamos. Para hacerlo en google colab, primero debemos cargar el archivo usando `!gdown`, lo cual no es necesario al ejecutarlo directamente en el entorno de desarrollo. Luego importamos el modulo y podemos usar las funciones que estan en el\n",
        "\n",
        "\n",
        "\n"
      ],
      "metadata": {
        "id": "64K96rJ4L3As"
      }
    },
    {
      "cell_type": "code",
      "source": [
        "!gdown 1AZYKDu8eStmT6zXi15SdSFs4CX4p0tSl "
      ],
      "metadata": {
        "id": "RSXdrExoYDaT"
      },
      "execution_count": null,
      "outputs": []
    },
    {
      "cell_type": "markdown",
      "source": [
        "alternativamente descargue el archivo del siguiente [enlace](https://drive.google.com/file/d/1AZYKDu8eStmT6zXi15SdSFs4CX4p0tSl/view?usp=sharing) y carguelo al entorno del notebook corriendo el siguiete código "
      ],
      "metadata": {
        "id": "QZHYunb7Ct1d"
      }
    },
    {
      "cell_type": "code",
      "source": [
        "from google.colab import files\n",
        "\n",
        "uploaded = files.upload()\n",
        "\n",
        "for fn in uploaded.keys():\n",
        "  print('User uploaded file \"{name}\" with length {length} bytes'.format(\n",
        "      name=fn, length=len(uploaded[fn])))"
      ],
      "metadata": {
        "id": "cDQiKwjiCy62"
      },
      "execution_count": null,
      "outputs": []
    },
    {
      "cell_type": "code",
      "source": [
        "import distancias\n",
        "\n",
        "# Calcular distancias entre dos puntos\n",
        "\n",
        "punto1 = (6.3154, -75.4767)\n",
        "punto2 = (6.3132, -75.4711)\n",
        "\n",
        "euclidiana = distancias.dist_euclidiana(punto1, punto2)\n",
        "ortodromica = distancias.dist_ortodromica(punto1, punto2)\n",
        "\n",
        "print(\"Distancia euclidiana {} vs distancia ortodrómica {}\".format(euclidiana, ortodromica))"
      ],
      "metadata": {
        "id": "FIBPbNIPYIFK"
      },
      "execution_count": null,
      "outputs": []
    },
    {
      "cell_type": "markdown",
      "source": [
        "## <font color='46B8A9'> **Ejercicio 3** </font>\n",
        "Implemente el programa que hace uso del modulo `distancias` para calcular las distancias euclidianas y ortodrómica entre dos puntos"
      ],
      "metadata": {
        "id": "aiXl_W3QbI_g"
      }
    },
    {
      "cell_type": "code",
      "source": [
        "# Inserte su respuesta aquí \n",
        "\n",
        "punto1 = (6.3154, -75.4767)\n",
        "punto2 = (6.3132, -75.4711)"
      ],
      "metadata": {
        "id": "dtk-h22kDEY9"
      },
      "execution_count": null,
      "outputs": []
    },
    {
      "cell_type": "markdown",
      "source": [
        "# <font color='056938'> **Librerias o </font> <font color='8EC044'> paquetes** </font>\n",
        "\n",
        "Un *paquete* es una carpeta que contiene varios módulos con el proposito de desarrollar algunas funciones especificas. Es decir, podríamos considerar que un módulo se define como la porción de un programa mientras que un paquete o librería se define como un conjunto de implementaciones funcionales.\n",
        "\n",
        "Un paquete puede importarse de al menos dos formas diferentes: \n",
        "\n",
        "* Importando el paquete completo\n",
        "```Python  \n",
        "import math\n",
        "```\n",
        "En cuyo caso para usar un modulo de dicho paquete debemos indicar el paquete al cual pertenece \n",
        "```Python  \n",
        "c = math.ceil(3.4)\n",
        "```\n",
        "\n",
        "* Importando modulos específicos del paquete\n",
        "```Python  \n",
        "from math import ceil\n",
        "```\n",
        "En cuyo caso para usar un modulo lo invocamos directamente\n",
        "```Python  \n",
        "c = ceil(3.4)\n",
        "```"
      ],
      "metadata": {
        "id": "mocT9gGHeZXK"
      }
    },
    {
      "cell_type": "markdown",
      "source": [
        "Note por ejemplo, que ya existe un paquete llamado `geopy` que permite calcular las distancias que hemos definido y algunas otras adicionales. en nuestro caso importaremos el módulo distance para calcular la distancia geodesica \n",
        "\n"
      ],
      "metadata": {
        "id": "xDE-0qX9fi0h"
      }
    },
    {
      "cell_type": "code",
      "source": [
        "from geopy import distance\n",
        "\n",
        "punto1 = (6.3154, -75.4767)\n",
        "punto2 = (6.3132, -75.4711)\n",
        "\n",
        "dist = distance.geodesic(punto1, punto2)\n",
        "\n",
        "print(\"Distancia geodesicas {}\".format(dist))\n",
        "\n"
      ],
      "metadata": {
        "id": "9dxEAKpofsqe"
      },
      "execution_count": null,
      "outputs": []
    },
    {
      "cell_type": "markdown",
      "source": [
        "## <font color='46B8A9'> **Ejercicio 4** </font>\n",
        "\n",
        "> Explore la documentación de la libreria [geopy](https://geopy.readthedocs.io/en/stable/#module-geopy.geocoders) para conocer que otras funcionalidades ofrece\n"
      ],
      "metadata": {
        "id": "5urfithRim0b"
      }
    },
    {
      "cell_type": "markdown",
      "source": [
        "Más adelante en este curso exploraremos con detalle algunas librerias como `numpy`, `pandas` o `plotly`. Así mismo, existen librerias para tareas tan complejas como el apendizaje de maquina, tales como `tensorflow` o `keras`"
      ],
      "metadata": {
        "id": "JjyIB8809H52"
      }
    },
    {
      "cell_type": "markdown",
      "source": [
        "# <font color='056938'> **Algunos librerias </font> <font color='8EC044'> de utilidad** </font>\n",
        "\n",
        "A continuación se enumeran las librerias que más usadas para algunas tareas especificas. Hay una gran cantidad de librerias disponibles para muy diversas funciones, te invitamos a explorar´\n",
        "\n",
        "\n",
        "\n"
      ],
      "metadata": {
        "id": "N_t7ODPShVEu"
      }
    },
    {
      "cell_type": "markdown",
      "source": [
        "| Funcionalidad                             | Libreria      |\n",
        "| ----------------------------------------- | ------------ |\n",
        "| Operaciones con tipos de datos especficos | Random       |\n",
        "|                                           | datetime     |\n",
        "|                                           | RE           |\n",
        "| Análisis de datos                         | Numpy        |\n",
        "|                                           | Pandas       |\n",
        "|                                           | Scipy        |\n",
        "| Visualiazación de datos                   | Matplotlib   |\n",
        "|                                           | Seaborn      |\n",
        "|                                           | Plotly       |\n",
        "|                                           | dash         |\n",
        "|                                           | streamlite   |\n",
        "| Aprendizaje automático                    | Keras        |\n",
        "|                                           | Tensorflow   |\n",
        "|                                           | Scikit-learn |\n",
        "|                                           | Scrapy       |"
      ],
      "metadata": {
        "id": "yJDngqpbRaKS"
      }
    },
    {
      "cell_type": "markdown",
      "source": [
        "# <font color='056938'> **Ejercicios** </font> "
      ],
      "metadata": {
        "id": "dr4rq1NYDj-V"
      }
    },
    {
      "cell_type": "markdown",
      "source": [
        "## <font color='46B8A9'> **Ejercicio 5** </font>\n",
        "\n",
        "Haga uso de la libreria datatime para dar respuesta a las siguientes preguntas, dadas dos fechas\n",
        "\n",
        "> Fecha1: 2022, 12, 17\n",
        "\n",
        "> Fecha2: 2023, 3, 10 \n"
      ],
      "metadata": {
        "id": "9tee4aiyEJs9"
      }
    },
    {
      "cell_type": "code",
      "source": [
        "# Importamos la librería 'datetime'\n",
        "import datetime\n",
        "\n",
        "# Creamos dos objetos datetime con fechas específicas\n",
        "fecha1 = datetime.datetime(2022, 12, 17)\n",
        "fecha2 = datetime.datetime(2023, 3, 10)"
      ],
      "metadata": {
        "id": "_u9eu1cYE_TG"
      },
      "execution_count": null,
      "outputs": []
    },
    {
      "cell_type": "markdown",
      "source": [
        "> Indicar a que día de la semana corresponde cada una de las fechas"
      ],
      "metadata": {
        "id": "NzA-3cCRFLsm"
      }
    },
    {
      "cell_type": "code",
      "source": [
        "# Inserte su respuesta aquí\n",
        "\n"
      ],
      "metadata": {
        "id": "yr4QbJ9_FYMd"
      },
      "execution_count": null,
      "outputs": []
    },
    {
      "cell_type": "markdown",
      "source": [
        "> Indicar el número de días que hay entre las dos fechas"
      ],
      "metadata": {
        "id": "2NJBSl5VFx6u"
      }
    },
    {
      "cell_type": "code",
      "source": [
        "# Inserte su respuesta aquí"
      ],
      "metadata": {
        "id": "h9rUykcRGVjO"
      },
      "execution_count": null,
      "outputs": []
    },
    {
      "cell_type": "markdown",
      "source": [
        "> De formato `dd/mm/aa` (ej. `17/12/2022`) a cada una de las fechas "
      ],
      "metadata": {
        "id": "kOcPgPnOGYnV"
      }
    },
    {
      "cell_type": "code",
      "source": [
        "# Inserte su respuesta aquí \n",
        "\n"
      ],
      "metadata": {
        "id": "y_A3pJtAG7pd"
      },
      "execution_count": null,
      "outputs": []
    },
    {
      "cell_type": "markdown",
      "source": [
        "> Sumar 30 días a la fecha dos y determinar a que día de la semana corresponde"
      ],
      "metadata": {
        "id": "XfD-Mh3xHLXW"
      }
    },
    {
      "cell_type": "code",
      "source": [
        "# Inserte su respuesta aquí\n",
        "\n"
      ],
      "metadata": {
        "id": "M0YwYV0BHQsf"
      },
      "execution_count": null,
      "outputs": []
    },
    {
      "cell_type": "markdown",
      "source": [
        "## <font color='46B8A9'> **Ejercicio 6** </font>\n",
        "\n",
        "Considere la liberia `random` para dar respuesta a las siguientes preguntas:"
      ],
      "metadata": {
        "id": "R1TCFoEdINo_"
      }
    },
    {
      "cell_type": "markdown",
      "source": [
        "> Simule el lanzamiento de un dado. Es decir, genere un número aleatorio entre 1 y 6"
      ],
      "metadata": {
        "id": "MkviGKhYIkoO"
      }
    },
    {
      "cell_type": "code",
      "source": [
        "# Inserte su respuesta aquí\n",
        "\n"
      ],
      "metadata": {
        "id": "wlkg6nxFItq_"
      },
      "execution_count": null,
      "outputs": []
    },
    {
      "cell_type": "markdown",
      "source": [
        "> Escoja aleatoriamente un número de letras $n$ dentro de una cadena de caracteres de longitud $m$ ($n<=m$) "
      ],
      "metadata": {
        "id": "ATIp50DBJCFO"
      }
    },
    {
      "cell_type": "code",
      "source": [
        "# Inserte su código aquí\n",
        "texto = \"Esta es una cadena de caracteres\"\n"
      ],
      "metadata": {
        "id": "3Fh2nMNBJe-g"
      },
      "execution_count": null,
      "outputs": []
    },
    {
      "cell_type": "markdown",
      "source": [
        "> Posicionar los caracteres de la cadena de caracteres de forma aleatoria (barajar las letras)"
      ],
      "metadata": {
        "id": "zfCqWbUyKfvv"
      }
    },
    {
      "cell_type": "code",
      "source": [
        "# Inserte su código aquí\n",
        "texto = \"Esta es una cadena de caracteres\""
      ],
      "metadata": {
        "id": "fYasRa5QKxfH"
      },
      "execution_count": null,
      "outputs": []
    },
    {
      "cell_type": "markdown",
      "source": [
        "## <font color='46B8A9'> **Ejercicio 7** </font>\n",
        "\n",
        "Considere el siguiente texto\n",
        "\n",
        "> `texto = \"Los algoritmos y la programación  son actualmente la competencias con mayor reputación en el entorno profesional\" `\n",
        "\n",
        "Use la libreria re para dar solución a las siguientes preguntas:"
      ],
      "metadata": {
        "id": "Km5pBstQL0U3"
      }
    },
    {
      "cell_type": "markdown",
      "source": [
        "> Cambiar todos las las letras con acento por su versión si acento. (ej. ó por o)"
      ],
      "metadata": {
        "id": "nii3EoLoTK8q"
      }
    },
    {
      "cell_type": "code",
      "source": [
        "# Inserte su código aquí\n",
        "\n"
      ],
      "metadata": {
        "id": "it_fKaagTcAU"
      },
      "execution_count": null,
      "outputs": []
    },
    {
      "cell_type": "markdown",
      "source": [
        "> Determinar si la palabra `profesional` esta en el texto"
      ],
      "metadata": {
        "id": "h1HMvi2SUVEo"
      }
    },
    {
      "cell_type": "code",
      "source": [
        "# Inserte su código aquí\n",
        "\n"
      ],
      "metadata": {
        "id": "WE5C_h9fUk5h"
      },
      "execution_count": null,
      "outputs": []
    },
    {
      "cell_type": "markdown",
      "source": [
        "> Contar el número de veces que la palabra `la` esta en el texto"
      ],
      "metadata": {
        "id": "5h6ZACaSUloB"
      }
    },
    {
      "cell_type": "code",
      "source": [
        "# Inserte su código aquí\n",
        "\n"
      ],
      "metadata": {
        "id": "aYr1JfaNVQk4"
      },
      "execution_count": null,
      "outputs": []
    }
  ]
}