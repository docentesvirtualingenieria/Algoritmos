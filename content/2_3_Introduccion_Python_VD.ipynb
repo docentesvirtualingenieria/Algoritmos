{
  "cells": [
    {
      "cell_type": "markdown",
      "source": [
        "<p><img alt=\"banner\" height=\"252px\" width=\"1080px\" src=\"https://docs.google.com/uc?export=download&id=1YJrz-tzQUkofEE37sRUdlCbnXf10gJlF\"  align=\"center\" hspace=\"10px\" vspace=\"0px\"></p>"
      ],
      "metadata": {
        "id": "wmRjWYTN1OJ5"
      },
      "id": "wmRjWYTN1OJ5"
    },
    {
      "cell_type": "markdown",
      "id": "87a881ce",
      "metadata": {
        "id": "87a881ce"
      },
      "source": [
        "# <font color='056938'> 2.2 -   **Introducción a Pytohn - </font> <font color='8EC044'> Jupyter notebook** </font>\n",
        "\n",
        "\n",
        "---\n",
        "\n",
        "\n",
        "\n",
        "Descarga del programa e información adicional sobre Python: <br><br>\n",
        "[Página web oficial](https://www.python.org/)"
      ]
    },
    {
      "cell_type": "markdown",
      "id": "94c21f03",
      "metadata": {
        "id": "94c21f03"
      },
      "source": [
        "## <font color='157699'> **Atajos de teclado más comunes:** </font>\n",
        "\n",
        "\n",
        "\n",
        "\n",
        "\n",
        "- **Crear una celda arriba**:  <kbd>A</kbd>\n",
        "- **Crear una celda abajo**:   <kbd>B</kbd>\n",
        "- **Eliminar una celda**:     <kbd>X</kbd>\n",
        "- **Cambio de tipo de celda a código**:   <kbd>Y\n",
        "- **Cambio de tipo de celda a markdown**:   <kbd>M\n",
        "- **Inclusión de números de línea en las celdas**:  <kbd>L\n",
        "- **Ejecución de una celda y paso a la siguiente** (se crea una nueva si no existe):  <kbd>Shift</kbd> + <kbd>Enter\n",
        "- **Ejecución de una celda y creación de una celda nueva debajo**:  <kbd>Alt</kbd> + <kbd>Enter\n",
        "- **Pasar de edición a selección de celda**:   <kbd>Esc</kbd>\n",
        "- **Pasar de selección de celda a edición**:   <kbd>Enter</kbd>"
      ]
    },
    {
      "cell_type": "markdown",
      "id": "d05f12ee",
      "metadata": {
        "id": "d05f12ee"
      },
      "source": [
        "## <font color='157699'> **Escritura en Markdown** </font>\n",
        "\n",
        "<br>\n",
        "Creación de una línea nueva en blanco:  \"< br >\"  (Sin espacios entre los caracteres)\n",
        "<br>\n",
        "\n",
        "[Fundamentos Markdown - 1](https://www.markdownguide.org/basic-syntax/)\n",
        "\n",
        "[Fundamentos Markdown - 2](https://www.datacamp.com/community/tutorials/markdown-in-jupyter-notebook?tap_a=5644-dce66f&tap_s=951023-a33697&utm_medium=affiliate&utm_source=kaybajaj&tm_subid1=712877&tm_subid2=AdJAKiliS9SIJN_aABOQMw)\n",
        "\n",
        "[Fundamentos Markdown - 3](https://medium.com/ibm-data-science-experience/markdown-for-jupyter-notebooks-cheatsheet-386c05aeebed)\n",
        "\n",
        "[Fundamentos Markdown - 4](https://medium.com/game-of-data/12-things-to-know-about-jupyter-notebook-markdown-3f6cef811707)\n"
      ]
    },
    {
      "cell_type": "markdown",
      "id": "b22498c4",
      "metadata": {
        "id": "b22498c4"
      },
      "source": [
        "## <font color='157699'> **Inclusión de figuras** </font>\n",
        "\n",
        "\n",
        "<img src=\"https://docs.google.com/uc?export=download&id=1JQAmGourXm1e7xiTQ9gEhwa6MkXpvesz\">\n",
        "\n",
        "\n"
      ]
    },
    {
      "cell_type": "markdown",
      "id": "649aa2d0",
      "metadata": {
        "id": "649aa2d0"
      },
      "source": [
        "## <font color='157699'> **Expresiones matemáticas** </font>\n",
        "\n",
        "Se usa LaTeX para escribir las ecuaciones <br><br>\n",
        "\n",
        "Ecuaciones en la misma línea de texto:  $ \\sqrt{\\alpha^2 - 3\\beta} $ y aquí continúa el texto. <br><br>\n",
        "\n",
        "Ecuaciones centradas en línea nueva: $$ x = \\dfrac{-b \\pm \\sqrt{b^2 - 4ac}}{2a} \\qquad (1) $$"
      ]
    },
    {
      "cell_type": "markdown",
      "id": "a6a41b40",
      "metadata": {
        "id": "a6a41b40"
      },
      "source": [
        "<font color='7BB300'> **Código para llevar el ancho de las celdas al de la pantalla, sin cambiar el tamaño del texto** </font>\n",
        "\n"
      ]
    },
    {
      "cell_type": "code",
      "execution_count": null,
      "id": "06239130",
      "metadata": {
        "id": "06239130",
        "outputId": "5a2d3e75-03e5-4b01-da9c-061ecbfbaf21"
      },
      "outputs": [
        {
          "data": {
            "text/html": [
              "<style>.container { width:100% !important; }</style>"
            ],
            "text/plain": [
              "<IPython.core.display.HTML object>"
            ]
          },
          "metadata": {},
          "output_type": "display_data"
        },
        {
          "data": {
            "text/html": [
              "<style>.output_result { max-width:100% !important; }</style>"
            ],
            "text/plain": [
              "<IPython.core.display.HTML object>"
            ]
          },
          "metadata": {},
          "output_type": "display_data"
        }
      ],
      "source": [
        "from IPython.core.display import display, HTML\n",
        "display(HTML(\"<style>.container { width:100% !important; }</style>\"))\n",
        "display(HTML(\"<style>.output_result { max-width:100% !important; }</style>\"))"
      ]
    },
    {
      "cell_type": "markdown",
      "id": "e1c8d934",
      "metadata": {
        "id": "e1c8d934"
      },
      "source": [
        "## <font color='157699'> **Comentarios en python:** </font>\n",
        "\n",
        "Se usa el carácter <kbd>#</kbd> al inicio de la línea de código.\n",
        "<br><br>\n",
        "Forma abreviada:  <kbd>Ctrl</kbd> + <kbd>/"
      ]
    },
    {
      "cell_type": "code",
      "execution_count": null,
      "id": "e3ccc073",
      "metadata": {
        "id": "e3ccc073"
      },
      "outputs": [],
      "source": [
        "# 1 + 3 - 5"
      ]
    },
    {
      "cell_type": "markdown",
      "id": "75b3bdda",
      "metadata": {
        "id": "75b3bdda"
      },
      "source": [
        "## <font color='157699'> **Operaciones matemáticas básicas** </font>"
      ]
    },
    {
      "cell_type": "code",
      "execution_count": null,
      "id": "42be1d0b",
      "metadata": {
        "id": "42be1d0b",
        "outputId": "be0799a7-651f-4b05-887e-2c3298987913"
      },
      "outputs": [
        {
          "data": {
            "text/plain": [
              "71"
            ]
          },
          "execution_count": 4,
          "metadata": {},
          "output_type": "execute_result"
        }
      ],
      "source": [
        "# Suma:\n",
        "54 + 17"
      ]
    },
    {
      "cell_type": "code",
      "execution_count": null,
      "id": "91e95025",
      "metadata": {
        "id": "91e95025",
        "outputId": "a766717c-ad33-4693-db94-e1484f30e609"
      },
      "outputs": [
        {
          "data": {
            "text/plain": [
              "-69"
            ]
          },
          "execution_count": 5,
          "metadata": {},
          "output_type": "execute_result"
        }
      ],
      "source": [
        "# Resta:\n",
        "23-92"
      ]
    },
    {
      "cell_type": "code",
      "execution_count": null,
      "id": "e0c16c7e",
      "metadata": {
        "id": "e0c16c7e",
        "outputId": "c61e90ae-2757-4fc7-9c0f-78a2787612cb"
      },
      "outputs": [
        {
          "data": {
            "text/plain": [
              "78.19999999999999"
            ]
          },
          "execution_count": 6,
          "metadata": {},
          "output_type": "execute_result"
        }
      ],
      "source": [
        "# Multiplicación:\n",
        "4.6 * 17"
      ]
    },
    {
      "cell_type": "code",
      "execution_count": null,
      "id": "6a06b6fe",
      "metadata": {
        "id": "6a06b6fe",
        "outputId": "ccd4365f-4db4-4a0a-9b19-d00aa9c34a6d"
      },
      "outputs": [
        {
          "data": {
            "text/plain": [
              "1.75"
            ]
          },
          "execution_count": 7,
          "metadata": {},
          "output_type": "execute_result"
        }
      ],
      "source": [
        "# División:\n",
        "7 / 4"
      ]
    },
    {
      "cell_type": "code",
      "execution_count": null,
      "id": "dfac3bec",
      "metadata": {
        "id": "dfac3bec",
        "outputId": "ac9c9ced-9407-47f2-d18f-ece5eb5b9ade"
      },
      "outputs": [
        {
          "data": {
            "text/plain": [
              "3"
            ]
          },
          "execution_count": 8,
          "metadata": {},
          "output_type": "execute_result"
        }
      ],
      "source": [
        "# División entera:\n",
        "14 // 4"
      ]
    },
    {
      "cell_type": "code",
      "execution_count": null,
      "id": "16f4e6a5",
      "metadata": {
        "id": "16f4e6a5",
        "outputId": "b4b28f3f-ec7e-413b-cf05-50b164a9e10b"
      },
      "outputs": [
        {
          "data": {
            "text/plain": [
              "2"
            ]
          },
          "execution_count": 9,
          "metadata": {},
          "output_type": "execute_result"
        }
      ],
      "source": [
        "# Residuo de la división entera:\n",
        "14 % 4"
      ]
    },
    {
      "cell_type": "code",
      "execution_count": null,
      "id": "8d67a9b6",
      "metadata": {
        "id": "8d67a9b6",
        "outputId": "073c983a-05b7-4985-e90e-cb09a6018f33"
      },
      "outputs": [
        {
          "data": {
            "text/plain": [
              "25"
            ]
          },
          "execution_count": 10,
          "metadata": {},
          "output_type": "execute_result"
        }
      ],
      "source": [
        "# Potenciación:\n",
        "5 ** 2"
      ]
    },
    {
      "cell_type": "code",
      "execution_count": null,
      "id": "643fee76",
      "metadata": {
        "id": "643fee76",
        "outputId": "a96db841-e256-4189-d54b-dc1c048fc8a1"
      },
      "outputs": [
        {
          "data": {
            "text/plain": [
              "3.0"
            ]
          },
          "execution_count": 11,
          "metadata": {},
          "output_type": "execute_result"
        }
      ],
      "source": [
        "9 ** (1/2)"
      ]
    },
    {
      "cell_type": "code",
      "execution_count": null,
      "id": "129f8123",
      "metadata": {
        "id": "129f8123",
        "outputId": "9f59ab75-bb82-4546-eef0-c439b5964264"
      },
      "outputs": [
        {
          "ename": "NameError",
          "evalue": "name 'sqrt' is not defined",
          "output_type": "error",
          "traceback": [
            "\u001b[1;31m---------------------------------------------------------------------------\u001b[0m",
            "\u001b[1;31mNameError\u001b[0m                                 Traceback (most recent call last)",
            "\u001b[1;32mC:\\Users\\SALASD~1\\AppData\\Local\\Temp/ipykernel_6120/3140457483.py\u001b[0m in \u001b[0;36m<module>\u001b[1;34m\u001b[0m\n\u001b[1;32m----> 1\u001b[1;33m \u001b[0msqrt\u001b[0m\u001b[1;33m(\u001b[0m\u001b[1;36m25\u001b[0m\u001b[1;33m)\u001b[0m\u001b[1;33m\u001b[0m\u001b[1;33m\u001b[0m\u001b[0m\n\u001b[0m",
            "\u001b[1;31mNameError\u001b[0m: name 'sqrt' is not defined"
          ]
        }
      ],
      "source": [
        "sqrt(25)"
      ]
    },
    {
      "cell_type": "markdown",
      "id": "cabe4b71",
      "metadata": {
        "id": "cabe4b71"
      },
      "source": [
        "## <font color='157699'> **Importación de librerías** </font>\n",
        "\n",
        "Las librerías son conjuntos de programas especializados para un fin específico, por ejemplo, la generación de gráficas, cálculos numéricos, etc.\n",
        "\n",
        "En Python hace falta importar librerías antes de poder realizar ciertas tareas."
      ]
    },
    {
      "cell_type": "markdown",
      "id": "90513981",
      "metadata": {
        "id": "90513981"
      },
      "source": [
        "### <font color='46B8A9'> **Opción 1:** importar con el nombre original: </font>"
      ]
    },
    {
      "cell_type": "code",
      "execution_count": null,
      "id": "1e6b3eb8",
      "metadata": {
        "id": "1e6b3eb8"
      },
      "outputs": [],
      "source": [
        "import numpy"
      ]
    },
    {
      "cell_type": "code",
      "execution_count": null,
      "id": "edecaabd",
      "metadata": {
        "id": "edecaabd",
        "outputId": "59c21270-87cb-45d4-df74-f81636d01267"
      },
      "outputs": [
        {
          "data": {
            "text/plain": [
              "5.0"
            ]
          },
          "execution_count": 14,
          "metadata": {},
          "output_type": "execute_result"
        }
      ],
      "source": [
        "numpy.sqrt(25)"
      ]
    },
    {
      "cell_type": "markdown",
      "id": "dead1a60",
      "metadata": {
        "id": "dead1a60"
      },
      "source": [
        "### <font color='46B8A9'> **Opción 2:** importar con un alias </font>"
      ]
    },
    {
      "cell_type": "code",
      "execution_count": null,
      "id": "9a960f32",
      "metadata": {
        "id": "9a960f32"
      },
      "outputs": [],
      "source": [
        "import numpy as np"
      ]
    },
    {
      "cell_type": "code",
      "execution_count": null,
      "id": "52b92008",
      "metadata": {
        "id": "52b92008",
        "outputId": "98a9b2db-9fff-41f8-8ee1-b0d167815466"
      },
      "outputs": [
        {
          "data": {
            "text/plain": [
              "6.0"
            ]
          },
          "execution_count": 3,
          "metadata": {},
          "output_type": "execute_result"
        }
      ],
      "source": [
        "np.sqrt(36)"
      ]
    },
    {
      "cell_type": "code",
      "execution_count": null,
      "id": "f1edf2d5",
      "metadata": {
        "id": "f1edf2d5",
        "outputId": "9d23302e-f903-44ab-bc42-d063ea85e5dc"
      },
      "outputs": [
        {
          "data": {
            "text/plain": [
              "3.0"
            ]
          },
          "execution_count": 17,
          "metadata": {},
          "output_type": "execute_result"
        }
      ],
      "source": [
        "numpy.sqrt(9)"
      ]
    },
    {
      "cell_type": "code",
      "execution_count": null,
      "id": "ed262962",
      "metadata": {
        "id": "ed262962"
      },
      "outputs": [],
      "source": [
        "import numpy as sofia"
      ]
    },
    {
      "cell_type": "code",
      "execution_count": null,
      "id": "98275e7f",
      "metadata": {
        "id": "98275e7f",
        "outputId": "61975203-f5cf-4bb0-a7ce-1abec22491d5"
      },
      "outputs": [
        {
          "data": {
            "text/plain": [
              "3.7416573867739413"
            ]
          },
          "execution_count": 19,
          "metadata": {},
          "output_type": "execute_result"
        }
      ],
      "source": [
        "sofia.sqrt(14)"
      ]
    },
    {
      "cell_type": "markdown",
      "id": "11ddc7a1",
      "metadata": {
        "id": "11ddc7a1"
      },
      "source": [
        "### <font color='46B8A9'> **Opción 3:** Importar directamente funciones de una librería </font>"
      ]
    },
    {
      "cell_type": "code",
      "execution_count": null,
      "id": "db0d047f",
      "metadata": {
        "id": "db0d047f"
      },
      "outputs": [],
      "source": [
        "from numpy import sqrt"
      ]
    },
    {
      "cell_type": "code",
      "execution_count": null,
      "id": "52697dcf",
      "metadata": {
        "id": "52697dcf",
        "outputId": "9498916f-00d1-4426-8b18-a88007e191fd"
      },
      "outputs": [
        {
          "data": {
            "text/plain": [
              "4.0"
            ]
          },
          "execution_count": 21,
          "metadata": {},
          "output_type": "execute_result"
        }
      ],
      "source": [
        "sqrt(16)"
      ]
    },
    {
      "cell_type": "code",
      "execution_count": null,
      "id": "661081e2",
      "metadata": {
        "id": "661081e2"
      },
      "outputs": [],
      "source": [
        "from numpy import sqrt as raiz"
      ]
    },
    {
      "cell_type": "code",
      "execution_count": null,
      "id": "31448a3b",
      "metadata": {
        "id": "31448a3b",
        "outputId": "01ac5a5f-e4a3-498f-d64d-6b5d9d6f7a1b"
      },
      "outputs": [
        {
          "data": {
            "text/plain": [
              "7.0"
            ]
          },
          "execution_count": 23,
          "metadata": {},
          "output_type": "execute_result"
        }
      ],
      "source": [
        "raiz(49)"
      ]
    },
    {
      "cell_type": "markdown",
      "source": [
        "# <font color='056938'> **Visualización de todas las funciones** </font> <font color='8EC044'> **dentro de una librería** </font>\n",
        "\n",
        "\n",
        "---\n",
        "\n"
      ],
      "metadata": {
        "id": "TtNJYt1F6HKW"
      },
      "id": "TtNJYt1F6HKW"
    },
    {
      "cell_type": "code",
      "execution_count": null,
      "id": "8ce8c6ab",
      "metadata": {
        "scrolled": true,
        "colab": {
          "base_uri": "https://localhost:8080/"
        },
        "id": "8ce8c6ab",
        "outputId": "654147d7-73ff-4205-e3d5-7c4108eef0f7"
      },
      "outputs": [
        {
          "output_type": "execute_result",
          "data": {
            "text/plain": [
              "['ALLOW_THREADS',\n",
              " 'AxisError',\n",
              " 'BUFSIZE',\n",
              " 'Bytes0',\n",
              " 'CLIP',\n",
              " 'ComplexWarning',\n",
              " 'DataSource',\n",
              " 'Datetime64',\n",
              " 'ERR_CALL',\n",
              " 'ERR_DEFAULT',\n",
              " 'ERR_IGNORE',\n",
              " 'ERR_LOG',\n",
              " 'ERR_PRINT',\n",
              " 'ERR_RAISE',\n",
              " 'ERR_WARN',\n",
              " 'FLOATING_POINT_SUPPORT',\n",
              " 'FPE_DIVIDEBYZERO',\n",
              " 'FPE_INVALID',\n",
              " 'FPE_OVERFLOW',\n",
              " 'FPE_UNDERFLOW',\n",
              " 'False_',\n",
              " 'Inf',\n",
              " 'Infinity',\n",
              " 'MAXDIMS',\n",
              " 'MAY_SHARE_BOUNDS',\n",
              " 'MAY_SHARE_EXACT',\n",
              " 'MachAr',\n",
              " 'ModuleDeprecationWarning',\n",
              " 'NAN',\n",
              " 'NINF',\n",
              " 'NZERO',\n",
              " 'NaN',\n",
              " 'PINF',\n",
              " 'PZERO',\n",
              " 'RAISE',\n",
              " 'RankWarning',\n",
              " 'SHIFT_DIVIDEBYZERO',\n",
              " 'SHIFT_INVALID',\n",
              " 'SHIFT_OVERFLOW',\n",
              " 'SHIFT_UNDERFLOW',\n",
              " 'ScalarType',\n",
              " 'Str0',\n",
              " 'Tester',\n",
              " 'TooHardError',\n",
              " 'True_',\n",
              " 'UFUNC_BUFSIZE_DEFAULT',\n",
              " 'UFUNC_PYVALS_NAME',\n",
              " 'Uint64',\n",
              " 'VisibleDeprecationWarning',\n",
              " 'WRAP',\n",
              " '_NoValue',\n",
              " '_UFUNC_API',\n",
              " '__NUMPY_SETUP__',\n",
              " '__all__',\n",
              " '__builtins__',\n",
              " '__cached__',\n",
              " '__config__',\n",
              " '__deprecated_attrs__',\n",
              " '__dir__',\n",
              " '__doc__',\n",
              " '__expired_functions__',\n",
              " '__file__',\n",
              " '__getattr__',\n",
              " '__git_version__',\n",
              " '__loader__',\n",
              " '__name__',\n",
              " '__package__',\n",
              " '__path__',\n",
              " '__spec__',\n",
              " '__version__',\n",
              " '_add_newdoc_ufunc',\n",
              " '_distributor_init',\n",
              " '_financial_names',\n",
              " '_globals',\n",
              " '_mat',\n",
              " '_pytesttester',\n",
              " '_version',\n",
              " 'abs',\n",
              " 'absolute',\n",
              " 'add',\n",
              " 'add_docstring',\n",
              " 'add_newdoc',\n",
              " 'add_newdoc_ufunc',\n",
              " 'alen',\n",
              " 'all',\n",
              " 'allclose',\n",
              " 'alltrue',\n",
              " 'amax',\n",
              " 'amin',\n",
              " 'angle',\n",
              " 'any',\n",
              " 'append',\n",
              " 'apply_along_axis',\n",
              " 'apply_over_axes',\n",
              " 'arange',\n",
              " 'arccos',\n",
              " 'arccosh',\n",
              " 'arcsin',\n",
              " 'arcsinh',\n",
              " 'arctan',\n",
              " 'arctan2',\n",
              " 'arctanh',\n",
              " 'argmax',\n",
              " 'argmin',\n",
              " 'argpartition',\n",
              " 'argsort',\n",
              " 'argwhere',\n",
              " 'around',\n",
              " 'array',\n",
              " 'array2string',\n",
              " 'array_equal',\n",
              " 'array_equiv',\n",
              " 'array_repr',\n",
              " 'array_split',\n",
              " 'array_str',\n",
              " 'asanyarray',\n",
              " 'asarray',\n",
              " 'asarray_chkfinite',\n",
              " 'ascontiguousarray',\n",
              " 'asfarray',\n",
              " 'asfortranarray',\n",
              " 'asmatrix',\n",
              " 'asscalar',\n",
              " 'atleast_1d',\n",
              " 'atleast_2d',\n",
              " 'atleast_3d',\n",
              " 'average',\n",
              " 'bartlett',\n",
              " 'base_repr',\n",
              " 'binary_repr',\n",
              " 'bincount',\n",
              " 'bitwise_and',\n",
              " 'bitwise_not',\n",
              " 'bitwise_or',\n",
              " 'bitwise_xor',\n",
              " 'blackman',\n",
              " 'block',\n",
              " 'bmat',\n",
              " 'bool8',\n",
              " 'bool_',\n",
              " 'broadcast',\n",
              " 'broadcast_arrays',\n",
              " 'broadcast_shapes',\n",
              " 'broadcast_to',\n",
              " 'busday_count',\n",
              " 'busday_offset',\n",
              " 'busdaycalendar',\n",
              " 'byte',\n",
              " 'byte_bounds',\n",
              " 'bytes0',\n",
              " 'bytes_',\n",
              " 'c_',\n",
              " 'can_cast',\n",
              " 'cast',\n",
              " 'cbrt',\n",
              " 'cdouble',\n",
              " 'ceil',\n",
              " 'cfloat',\n",
              " 'char',\n",
              " 'character',\n",
              " 'chararray',\n",
              " 'choose',\n",
              " 'clip',\n",
              " 'clongdouble',\n",
              " 'clongfloat',\n",
              " 'column_stack',\n",
              " 'common_type',\n",
              " 'compare_chararrays',\n",
              " 'compat',\n",
              " 'complex128',\n",
              " 'complex256',\n",
              " 'complex64',\n",
              " 'complex_',\n",
              " 'complexfloating',\n",
              " 'compress',\n",
              " 'concatenate',\n",
              " 'conj',\n",
              " 'conjugate',\n",
              " 'convolve',\n",
              " 'copy',\n",
              " 'copysign',\n",
              " 'copyto',\n",
              " 'core',\n",
              " 'corrcoef',\n",
              " 'correlate',\n",
              " 'cos',\n",
              " 'cosh',\n",
              " 'count_nonzero',\n",
              " 'cov',\n",
              " 'cross',\n",
              " 'csingle',\n",
              " 'ctypeslib',\n",
              " 'cumprod',\n",
              " 'cumproduct',\n",
              " 'cumsum',\n",
              " 'datetime64',\n",
              " 'datetime_as_string',\n",
              " 'datetime_data',\n",
              " 'deg2rad',\n",
              " 'degrees',\n",
              " 'delete',\n",
              " 'deprecate',\n",
              " 'deprecate_with_doc',\n",
              " 'diag',\n",
              " 'diag_indices',\n",
              " 'diag_indices_from',\n",
              " 'diagflat',\n",
              " 'diagonal',\n",
              " 'diff',\n",
              " 'digitize',\n",
              " 'disp',\n",
              " 'divide',\n",
              " 'divmod',\n",
              " 'dot',\n",
              " 'double',\n",
              " 'dsplit',\n",
              " 'dstack',\n",
              " 'dtype',\n",
              " 'e',\n",
              " 'ediff1d',\n",
              " 'einsum',\n",
              " 'einsum_path',\n",
              " 'emath',\n",
              " 'empty',\n",
              " 'empty_like',\n",
              " 'equal',\n",
              " 'errstate',\n",
              " 'euler_gamma',\n",
              " 'exp',\n",
              " 'exp2',\n",
              " 'expand_dims',\n",
              " 'expm1',\n",
              " 'extract',\n",
              " 'eye',\n",
              " 'fabs',\n",
              " 'fastCopyAndTranspose',\n",
              " 'fft',\n",
              " 'fill_diagonal',\n",
              " 'find_common_type',\n",
              " 'finfo',\n",
              " 'fix',\n",
              " 'flatiter',\n",
              " 'flatnonzero',\n",
              " 'flexible',\n",
              " 'flip',\n",
              " 'fliplr',\n",
              " 'flipud',\n",
              " 'float128',\n",
              " 'float16',\n",
              " 'float32',\n",
              " 'float64',\n",
              " 'float_',\n",
              " 'float_power',\n",
              " 'floating',\n",
              " 'floor',\n",
              " 'floor_divide',\n",
              " 'fmax',\n",
              " 'fmin',\n",
              " 'fmod',\n",
              " 'format_float_positional',\n",
              " 'format_float_scientific',\n",
              " 'format_parser',\n",
              " 'frexp',\n",
              " 'frombuffer',\n",
              " 'fromfile',\n",
              " 'fromfunction',\n",
              " 'fromiter',\n",
              " 'frompyfunc',\n",
              " 'fromregex',\n",
              " 'fromstring',\n",
              " 'full',\n",
              " 'full_like',\n",
              " 'gcd',\n",
              " 'generic',\n",
              " 'genfromtxt',\n",
              " 'geomspace',\n",
              " 'get_array_wrap',\n",
              " 'get_include',\n",
              " 'get_printoptions',\n",
              " 'getbufsize',\n",
              " 'geterr',\n",
              " 'geterrcall',\n",
              " 'geterrobj',\n",
              " 'gradient',\n",
              " 'greater',\n",
              " 'greater_equal',\n",
              " 'half',\n",
              " 'hamming',\n",
              " 'hanning',\n",
              " 'heaviside',\n",
              " 'histogram',\n",
              " 'histogram2d',\n",
              " 'histogram_bin_edges',\n",
              " 'histogramdd',\n",
              " 'hsplit',\n",
              " 'hstack',\n",
              " 'hypot',\n",
              " 'i0',\n",
              " 'identity',\n",
              " 'iinfo',\n",
              " 'imag',\n",
              " 'in1d',\n",
              " 'index_exp',\n",
              " 'indices',\n",
              " 'inexact',\n",
              " 'inf',\n",
              " 'info',\n",
              " 'infty',\n",
              " 'inner',\n",
              " 'insert',\n",
              " 'int0',\n",
              " 'int16',\n",
              " 'int32',\n",
              " 'int64',\n",
              " 'int8',\n",
              " 'int_',\n",
              " 'intc',\n",
              " 'integer',\n",
              " 'interp',\n",
              " 'intersect1d',\n",
              " 'intp',\n",
              " 'invert',\n",
              " 'is_busday',\n",
              " 'isclose',\n",
              " 'iscomplex',\n",
              " 'iscomplexobj',\n",
              " 'isfinite',\n",
              " 'isfortran',\n",
              " 'isin',\n",
              " 'isinf',\n",
              " 'isnan',\n",
              " 'isnat',\n",
              " 'isneginf',\n",
              " 'isposinf',\n",
              " 'isreal',\n",
              " 'isrealobj',\n",
              " 'isscalar',\n",
              " 'issctype',\n",
              " 'issubclass_',\n",
              " 'issubdtype',\n",
              " 'issubsctype',\n",
              " 'iterable',\n",
              " 'ix_',\n",
              " 'kaiser',\n",
              " 'kernel_version',\n",
              " 'kron',\n",
              " 'lcm',\n",
              " 'ldexp',\n",
              " 'left_shift',\n",
              " 'less',\n",
              " 'less_equal',\n",
              " 'lexsort',\n",
              " 'lib',\n",
              " 'linalg',\n",
              " 'linspace',\n",
              " 'little_endian',\n",
              " 'load',\n",
              " 'loads',\n",
              " 'loadtxt',\n",
              " 'log',\n",
              " 'log10',\n",
              " 'log1p',\n",
              " 'log2',\n",
              " 'logaddexp',\n",
              " 'logaddexp2',\n",
              " 'logical_and',\n",
              " 'logical_not',\n",
              " 'logical_or',\n",
              " 'logical_xor',\n",
              " 'logspace',\n",
              " 'longcomplex',\n",
              " 'longdouble',\n",
              " 'longfloat',\n",
              " 'longlong',\n",
              " 'lookfor',\n",
              " 'ma',\n",
              " 'mafromtxt',\n",
              " 'mask_indices',\n",
              " 'mat',\n",
              " 'math',\n",
              " 'matmul',\n",
              " 'matrix',\n",
              " 'matrixlib',\n",
              " 'max',\n",
              " 'maximum',\n",
              " 'maximum_sctype',\n",
              " 'may_share_memory',\n",
              " 'mean',\n",
              " 'median',\n",
              " 'memmap',\n",
              " 'meshgrid',\n",
              " 'mgrid',\n",
              " 'min',\n",
              " 'min_scalar_type',\n",
              " 'minimum',\n",
              " 'mintypecode',\n",
              " 'mod',\n",
              " 'modf',\n",
              " 'moveaxis',\n",
              " 'msort',\n",
              " 'multiply',\n",
              " 'nan',\n",
              " 'nan_to_num',\n",
              " 'nanargmax',\n",
              " 'nanargmin',\n",
              " 'nancumprod',\n",
              " 'nancumsum',\n",
              " 'nanmax',\n",
              " 'nanmean',\n",
              " 'nanmedian',\n",
              " 'nanmin',\n",
              " 'nanpercentile',\n",
              " 'nanprod',\n",
              " 'nanquantile',\n",
              " 'nanstd',\n",
              " 'nansum',\n",
              " 'nanvar',\n",
              " 'nbytes',\n",
              " 'ndarray',\n",
              " 'ndenumerate',\n",
              " 'ndfromtxt',\n",
              " 'ndim',\n",
              " 'ndindex',\n",
              " 'nditer',\n",
              " 'negative',\n",
              " 'nested_iters',\n",
              " 'newaxis',\n",
              " 'nextafter',\n",
              " 'nonzero',\n",
              " 'not_equal',\n",
              " 'numarray',\n",
              " 'number',\n",
              " 'obj2sctype',\n",
              " 'object0',\n",
              " 'object_',\n",
              " 'ogrid',\n",
              " 'oldnumeric',\n",
              " 'ones',\n",
              " 'ones_like',\n",
              " 'os',\n",
              " 'outer',\n",
              " 'packbits',\n",
              " 'pad',\n",
              " 'partition',\n",
              " 'percentile',\n",
              " 'pi',\n",
              " 'piecewise',\n",
              " 'place',\n",
              " 'poly',\n",
              " 'poly1d',\n",
              " 'polyadd',\n",
              " 'polyder',\n",
              " 'polydiv',\n",
              " 'polyfit',\n",
              " 'polyint',\n",
              " 'polymul',\n",
              " 'polynomial',\n",
              " 'polysub',\n",
              " 'polyval',\n",
              " 'positive',\n",
              " 'power',\n",
              " 'printoptions',\n",
              " 'prod',\n",
              " 'product',\n",
              " 'promote_types',\n",
              " 'ptp',\n",
              " 'put',\n",
              " 'put_along_axis',\n",
              " 'putmask',\n",
              " 'quantile',\n",
              " 'r_',\n",
              " 'rad2deg',\n",
              " 'radians',\n",
              " 'random',\n",
              " 'ravel',\n",
              " 'ravel_multi_index',\n",
              " 'real',\n",
              " 'real_if_close',\n",
              " 'rec',\n",
              " 'recarray',\n",
              " 'recfromcsv',\n",
              " 'recfromtxt',\n",
              " 'reciprocal',\n",
              " 'record',\n",
              " 'remainder',\n",
              " 'repeat',\n",
              " 'require',\n",
              " 'reshape',\n",
              " 'resize',\n",
              " 'result_type',\n",
              " 'right_shift',\n",
              " 'rint',\n",
              " 'roll',\n",
              " 'rollaxis',\n",
              " 'roots',\n",
              " 'rot90',\n",
              " 'round',\n",
              " 'round_',\n",
              " 'row_stack',\n",
              " 's_',\n",
              " 'safe_eval',\n",
              " 'save',\n",
              " 'savetxt',\n",
              " 'savez',\n",
              " 'savez_compressed',\n",
              " 'sctype2char',\n",
              " 'sctypeDict',\n",
              " 'sctypes',\n",
              " 'searchsorted',\n",
              " 'select',\n",
              " 'set_numeric_ops',\n",
              " 'set_printoptions',\n",
              " 'set_string_function',\n",
              " 'setbufsize',\n",
              " 'setdiff1d',\n",
              " 'seterr',\n",
              " 'seterrcall',\n",
              " 'seterrobj',\n",
              " 'setxor1d',\n",
              " 'shape',\n",
              " 'shares_memory',\n",
              " 'short',\n",
              " 'show_config',\n",
              " 'sign',\n",
              " 'signbit',\n",
              " 'signedinteger',\n",
              " 'sin',\n",
              " 'sinc',\n",
              " 'single',\n",
              " 'singlecomplex',\n",
              " 'sinh',\n",
              " 'size',\n",
              " 'sometrue',\n",
              " 'sort',\n",
              " 'sort_complex',\n",
              " 'source',\n",
              " 'spacing',\n",
              " 'split',\n",
              " 'sqrt',\n",
              " 'square',\n",
              " 'squeeze',\n",
              " 'stack',\n",
              " 'std',\n",
              " 'str0',\n",
              " 'str_',\n",
              " 'string_',\n",
              " 'subtract',\n",
              " 'sum',\n",
              " 'swapaxes',\n",
              " 'sys',\n",
              " 'take',\n",
              " 'take_along_axis',\n",
              " 'tan',\n",
              " 'tanh',\n",
              " 'tensordot',\n",
              " 'test',\n",
              " 'testing',\n",
              " 'tile',\n",
              " 'timedelta64',\n",
              " 'trace',\n",
              " 'tracemalloc_domain',\n",
              " 'transpose',\n",
              " 'trapz',\n",
              " 'tri',\n",
              " 'tril',\n",
              " 'tril_indices',\n",
              " 'tril_indices_from',\n",
              " 'trim_zeros',\n",
              " 'triu',\n",
              " 'triu_indices',\n",
              " 'triu_indices_from',\n",
              " 'true_divide',\n",
              " 'trunc',\n",
              " 'typecodes',\n",
              " 'typename',\n",
              " 'ubyte',\n",
              " 'ufunc',\n",
              " 'uint',\n",
              " 'uint0',\n",
              " 'uint16',\n",
              " 'uint32',\n",
              " 'uint64',\n",
              " 'uint8',\n",
              " 'uintc',\n",
              " 'uintp',\n",
              " 'ulonglong',\n",
              " 'unicode_',\n",
              " 'union1d',\n",
              " 'unique',\n",
              " 'unpackbits',\n",
              " 'unravel_index',\n",
              " 'unsignedinteger',\n",
              " 'unwrap',\n",
              " 'use_hugepage',\n",
              " 'ushort',\n",
              " 'vander',\n",
              " 'var',\n",
              " 'vdot',\n",
              " 'vectorize',\n",
              " 'version',\n",
              " 'void',\n",
              " 'void0',\n",
              " 'vsplit',\n",
              " 'vstack',\n",
              " 'warnings',\n",
              " 'where',\n",
              " 'who',\n",
              " 'zeros',\n",
              " 'zeros_like']"
            ]
          },
          "metadata": {},
          "execution_count": 5
        }
      ],
      "source": [
        "dir(np)"
      ]
    },
    {
      "cell_type": "code",
      "execution_count": null,
      "id": "21ce9215",
      "metadata": {
        "scrolled": true,
        "id": "21ce9215",
        "outputId": "db33565c-f0b4-435e-e61a-935aedded357"
      },
      "outputs": [
        {
          "name": "stdout",
          "output_type": "stream",
          "text": [
            "Help on function unique in module numpy:\n",
            "\n",
            "unique(ar, return_index=False, return_inverse=False, return_counts=False, axis=None)\n",
            "    Find the unique elements of an array.\n",
            "    \n",
            "    Returns the sorted unique elements of an array. There are three optional\n",
            "    outputs in addition to the unique elements:\n",
            "    \n",
            "    * the indices of the input array that give the unique values\n",
            "    * the indices of the unique array that reconstruct the input array\n",
            "    * the number of times each unique value comes up in the input array\n",
            "    \n",
            "    Parameters\n",
            "    ----------\n",
            "    ar : array_like\n",
            "        Input array. Unless `axis` is specified, this will be flattened if it\n",
            "        is not already 1-D.\n",
            "    return_index : bool, optional\n",
            "        If True, also return the indices of `ar` (along the specified axis,\n",
            "        if provided, or in the flattened array) that result in the unique array.\n",
            "    return_inverse : bool, optional\n",
            "        If True, also return the indices of the unique array (for the specified\n",
            "        axis, if provided) that can be used to reconstruct `ar`.\n",
            "    return_counts : bool, optional\n",
            "        If True, also return the number of times each unique item appears\n",
            "        in `ar`.\n",
            "    \n",
            "        .. versionadded:: 1.9.0\n",
            "    \n",
            "    axis : int or None, optional\n",
            "        The axis to operate on. If None, `ar` will be flattened. If an integer,\n",
            "        the subarrays indexed by the given axis will be flattened and treated\n",
            "        as the elements of a 1-D array with the dimension of the given axis,\n",
            "        see the notes for more details.  Object arrays or structured arrays\n",
            "        that contain objects are not supported if the `axis` kwarg is used. The\n",
            "        default is None.\n",
            "    \n",
            "        .. versionadded:: 1.13.0\n",
            "    \n",
            "    Returns\n",
            "    -------\n",
            "    unique : ndarray\n",
            "        The sorted unique values.\n",
            "    unique_indices : ndarray, optional\n",
            "        The indices of the first occurrences of the unique values in the\n",
            "        original array. Only provided if `return_index` is True.\n",
            "    unique_inverse : ndarray, optional\n",
            "        The indices to reconstruct the original array from the\n",
            "        unique array. Only provided if `return_inverse` is True.\n",
            "    unique_counts : ndarray, optional\n",
            "        The number of times each of the unique values comes up in the\n",
            "        original array. Only provided if `return_counts` is True.\n",
            "    \n",
            "        .. versionadded:: 1.9.0\n",
            "    \n",
            "    See Also\n",
            "    --------\n",
            "    numpy.lib.arraysetops : Module with a number of other functions for\n",
            "                            performing set operations on arrays.\n",
            "    repeat : Repeat elements of an array.\n",
            "    \n",
            "    Notes\n",
            "    -----\n",
            "    When an axis is specified the subarrays indexed by the axis are sorted.\n",
            "    This is done by making the specified axis the first dimension of the array\n",
            "    (move the axis to the first dimension to keep the order of the other axes)\n",
            "    and then flattening the subarrays in C order. The flattened subarrays are\n",
            "    then viewed as a structured type with each element given a label, with the\n",
            "    effect that we end up with a 1-D array of structured types that can be\n",
            "    treated in the same way as any other 1-D array. The result is that the\n",
            "    flattened subarrays are sorted in lexicographic order starting with the\n",
            "    first element.\n",
            "    \n",
            "    Examples\n",
            "    --------\n",
            "    >>> np.unique([1, 1, 2, 2, 3, 3])\n",
            "    array([1, 2, 3])\n",
            "    >>> a = np.array([[1, 1], [2, 3]])\n",
            "    >>> np.unique(a)\n",
            "    array([1, 2, 3])\n",
            "    \n",
            "    Return the unique rows of a 2D array\n",
            "    \n",
            "    >>> a = np.array([[1, 0, 0], [1, 0, 0], [2, 3, 4]])\n",
            "    >>> np.unique(a, axis=0)\n",
            "    array([[1, 0, 0], [2, 3, 4]])\n",
            "    \n",
            "    Return the indices of the original array that give the unique values:\n",
            "    \n",
            "    >>> a = np.array(['a', 'b', 'b', 'c', 'a'])\n",
            "    >>> u, indices = np.unique(a, return_index=True)\n",
            "    >>> u\n",
            "    array(['a', 'b', 'c'], dtype='<U1')\n",
            "    >>> indices\n",
            "    array([0, 1, 3])\n",
            "    >>> a[indices]\n",
            "    array(['a', 'b', 'c'], dtype='<U1')\n",
            "    \n",
            "    Reconstruct the input array from the unique values and inverse:\n",
            "    \n",
            "    >>> a = np.array([1, 2, 6, 4, 2, 3, 2])\n",
            "    >>> u, indices = np.unique(a, return_inverse=True)\n",
            "    >>> u\n",
            "    array([1, 2, 3, 4, 6])\n",
            "    >>> indices\n",
            "    array([0, 1, 4, 3, 1, 2, 1])\n",
            "    >>> u[indices]\n",
            "    array([1, 2, 6, 4, 2, 3, 2])\n",
            "    \n",
            "    Reconstruct the input values from the unique values and counts:\n",
            "    \n",
            "    >>> a = np.array([1, 2, 6, 4, 2, 3, 2])\n",
            "    >>> values, counts = np.unique(a, return_counts=True)\n",
            "    >>> values\n",
            "    array([1, 2, 3, 4, 6])\n",
            "    >>> counts\n",
            "    array([1, 3, 1, 1, 1])\n",
            "    >>> np.repeat(values, counts)\n",
            "    array([1, 2, 2, 2, 3, 4, 6])    # original order not preserved\n",
            "\n"
          ]
        }
      ],
      "source": [
        "help(np.unique)"
      ]
    },
    {
      "cell_type": "code",
      "execution_count": null,
      "id": "f9f7fd85",
      "metadata": {
        "id": "f9f7fd85",
        "outputId": "c24e796b-9c62-40c7-ead9-8a088598014a"
      },
      "outputs": [
        {
          "ename": "NameError",
          "evalue": "name 'pi' is not defined",
          "output_type": "error",
          "traceback": [
            "\u001b[1;31m---------------------------------------------------------------------------\u001b[0m",
            "\u001b[1;31mNameError\u001b[0m                                 Traceback (most recent call last)",
            "\u001b[1;32m~\\AppData\\Local\\Temp/ipykernel_7520/3440806613.py\u001b[0m in \u001b[0;36m<module>\u001b[1;34m\u001b[0m\n\u001b[1;32m----> 1\u001b[1;33m \u001b[0mpi\u001b[0m\u001b[1;33m\u001b[0m\u001b[1;33m\u001b[0m\u001b[0m\n\u001b[0m",
            "\u001b[1;31mNameError\u001b[0m: name 'pi' is not defined"
          ]
        }
      ],
      "source": [
        "pi"
      ]
    },
    {
      "cell_type": "code",
      "execution_count": null,
      "id": "731d496e",
      "metadata": {
        "id": "731d496e",
        "outputId": "a9627593-c7d9-43f6-d520-642011763e18"
      },
      "outputs": [
        {
          "data": {
            "text/plain": [
              "3.141592653589793"
            ]
          },
          "execution_count": 5,
          "metadata": {},
          "output_type": "execute_result"
        }
      ],
      "source": [
        "pi = np.pi\n",
        "pi"
      ]
    },
    {
      "cell_type": "code",
      "execution_count": null,
      "id": "f6c1f4bd",
      "metadata": {
        "id": "f6c1f4bd",
        "outputId": "add61875-eb45-4e0c-fe78-6061b5193e82"
      },
      "outputs": [
        {
          "data": {
            "text/plain": [
              "1.0"
            ]
          },
          "execution_count": 6,
          "metadata": {},
          "output_type": "execute_result"
        }
      ],
      "source": [
        "np.cos(2*pi)"
      ]
    },
    {
      "cell_type": "markdown",
      "id": "451541ba",
      "metadata": {
        "id": "451541ba"
      },
      "source": [
        "## <font color='157699'> **Instrucciones de asignación** </font>\n",
        "\n",
        "**Pseudocódigo:** `variable` $\\leftarrow$ `valor`\n",
        "<br>\n",
        "**Python:**  `variable` = `valor`"
      ]
    },
    {
      "cell_type": "code",
      "execution_count": null,
      "id": "d47b3735",
      "metadata": {
        "id": "d47b3735"
      },
      "outputs": [],
      "source": [
        "# Asignación múltiple:\n",
        "a, b, c, d = 4, 'Perro', 45, 12"
      ]
    },
    {
      "cell_type": "code",
      "execution_count": null,
      "id": "2d6e74e7",
      "metadata": {
        "id": "2d6e74e7",
        "outputId": "354cf138-b0bf-433f-fba1-910d88c75679"
      },
      "outputs": [
        {
          "data": {
            "text/plain": [
              "4"
            ]
          },
          "execution_count": 8,
          "metadata": {},
          "output_type": "execute_result"
        }
      ],
      "source": [
        "a"
      ]
    },
    {
      "cell_type": "code",
      "execution_count": null,
      "id": "8e1543ba",
      "metadata": {
        "id": "8e1543ba",
        "outputId": "89ba5dfb-de2b-416b-afb6-9397e5809311"
      },
      "outputs": [
        {
          "data": {
            "text/plain": [
              "'Perro'"
            ]
          },
          "execution_count": 9,
          "metadata": {},
          "output_type": "execute_result"
        }
      ],
      "source": [
        "b"
      ]
    },
    {
      "cell_type": "code",
      "execution_count": null,
      "id": "5b06d303",
      "metadata": {
        "id": "5b06d303",
        "outputId": "f2c05d08-845c-4945-fe94-197be2b72d57"
      },
      "outputs": [
        {
          "data": {
            "text/plain": [
              "45"
            ]
          },
          "execution_count": 10,
          "metadata": {},
          "output_type": "execute_result"
        }
      ],
      "source": [
        "c"
      ]
    },
    {
      "cell_type": "code",
      "execution_count": null,
      "id": "04ca68c5",
      "metadata": {
        "id": "04ca68c5",
        "outputId": "cc08236e-6910-459a-aa4f-23534920cc3e"
      },
      "outputs": [
        {
          "data": {
            "text/plain": [
              "12"
            ]
          },
          "execution_count": 11,
          "metadata": {},
          "output_type": "execute_result"
        }
      ],
      "source": [
        "d"
      ]
    },
    {
      "cell_type": "markdown",
      "id": "fea3ee21",
      "metadata": {
        "id": "fea3ee21"
      },
      "source": [
        "### <font color='46B8A9'> **Redondeo:  función `round` de numpy** </font>"
      ]
    },
    {
      "cell_type": "code",
      "execution_count": null,
      "id": "98143eb8",
      "metadata": {
        "id": "98143eb8",
        "outputId": "20f842b0-c5af-4787-eabd-7977a24ee605"
      },
      "outputs": [
        {
          "data": {
            "text/plain": [
              "12.98"
            ]
          },
          "execution_count": 30,
          "metadata": {},
          "output_type": "execute_result"
        }
      ],
      "source": [
        "b"
      ]
    },
    {
      "cell_type": "code",
      "execution_count": null,
      "id": "7c3ab177",
      "metadata": {
        "id": "7c3ab177",
        "outputId": "80e44a62-f297-43d8-ade1-4a638db5ad4c"
      },
      "outputs": [
        {
          "data": {
            "text/plain": [
              "13.0"
            ]
          },
          "execution_count": 31,
          "metadata": {},
          "output_type": "execute_result"
        }
      ],
      "source": [
        "np.round(b)"
      ]
    },
    {
      "cell_type": "code",
      "execution_count": null,
      "id": "78754d13",
      "metadata": {
        "id": "78754d13",
        "outputId": "c847e3cf-d3ac-4487-a232-17cc319f4b04"
      },
      "outputs": [
        {
          "data": {
            "text/plain": [
              "2.0"
            ]
          },
          "execution_count": 32,
          "metadata": {},
          "output_type": "execute_result"
        }
      ],
      "source": [
        "np.round(2.38)"
      ]
    },
    {
      "cell_type": "code",
      "execution_count": null,
      "id": "c31bf89c",
      "metadata": {
        "id": "c31bf89c",
        "outputId": "08bc02fb-7731-4f6c-cef3-6564b4fd945f"
      },
      "outputs": [
        {
          "data": {
            "text/plain": [
              "3.0"
            ]
          },
          "execution_count": 33,
          "metadata": {},
          "output_type": "execute_result"
        }
      ],
      "source": [
        "# Redondeo al entero más cercano hacia abajo:  floor\n",
        "np.floor(3.78)"
      ]
    },
    {
      "cell_type": "code",
      "execution_count": null,
      "id": "ab038738",
      "metadata": {
        "id": "ab038738",
        "outputId": "87efb7d1-d70b-4b63-88a6-4c125ae831ce"
      },
      "outputs": [
        {
          "data": {
            "text/plain": [
              "4.0"
            ]
          },
          "execution_count": 34,
          "metadata": {},
          "output_type": "execute_result"
        }
      ],
      "source": [
        "# Redondeo al entero más cercano hacia arriba:  ceil\n",
        "np.ceil(3.78)"
      ]
    },
    {
      "cell_type": "code",
      "execution_count": null,
      "id": "2bd5abb5",
      "metadata": {
        "id": "2bd5abb5",
        "outputId": "602684ab-e2e0-4732-867b-2168efbcc6f9"
      },
      "outputs": [
        {
          "data": {
            "text/plain": [
              "3.8"
            ]
          },
          "execution_count": 35,
          "metadata": {},
          "output_type": "execute_result"
        }
      ],
      "source": [
        "# Redondeo a una cantidad específica de decimales:\n",
        "np.round(3.78, decimals=1)"
      ]
    },
    {
      "cell_type": "code",
      "execution_count": null,
      "id": "d2a9e4e5",
      "metadata": {
        "id": "d2a9e4e5",
        "outputId": "db89a890-1423-4fbb-c1ba-851e023d863f"
      },
      "outputs": [
        {
          "data": {
            "text/plain": [
              "3.78"
            ]
          },
          "execution_count": 36,
          "metadata": {},
          "output_type": "execute_result"
        }
      ],
      "source": [
        "np.round(3.78, decimals=4)"
      ]
    },
    {
      "cell_type": "code",
      "execution_count": null,
      "id": "e96c7972",
      "metadata": {
        "id": "e96c7972",
        "outputId": "5ff48a95-a45c-4d63-db62-74557b14de1f"
      },
      "outputs": [
        {
          "data": {
            "text/plain": [
              "2.4"
            ]
          },
          "execution_count": 37,
          "metadata": {},
          "output_type": "execute_result"
        }
      ],
      "source": [
        "np.round(2.38, decimals=1)"
      ]
    },
    {
      "cell_type": "code",
      "execution_count": null,
      "id": "806e6784",
      "metadata": {
        "id": "806e6784",
        "outputId": "7841c70e-aac3-49b5-ba57-c3ad94a899e7"
      },
      "outputs": [
        {
          "data": {
            "text/plain": [
              "3.141592653589793"
            ]
          },
          "execution_count": 38,
          "metadata": {},
          "output_type": "execute_result"
        }
      ],
      "source": [
        "pi"
      ]
    },
    {
      "cell_type": "code",
      "execution_count": null,
      "id": "bb32b43b",
      "metadata": {
        "id": "bb32b43b",
        "outputId": "df36274f-d7ab-4fcf-d8f2-7d5260bf8e7c"
      },
      "outputs": [
        {
          "data": {
            "text/plain": [
              "3.1416"
            ]
          },
          "execution_count": 39,
          "metadata": {},
          "output_type": "execute_result"
        }
      ],
      "source": [
        "np.round(pi, decimals=4)"
      ]
    },
    {
      "cell_type": "markdown",
      "id": "6700b86a",
      "metadata": {
        "id": "6700b86a"
      },
      "source": [
        "**Números complejos**"
      ]
    },
    {
      "cell_type": "code",
      "execution_count": null,
      "id": "f68aaa31",
      "metadata": {
        "id": "f68aaa31",
        "outputId": "bc2b6590-3203-41aa-c900-705348b4980f"
      },
      "outputs": [
        {
          "data": {
            "text/plain": [
              "(4-3j)"
            ]
          },
          "execution_count": 40,
          "metadata": {},
          "output_type": "execute_result"
        }
      ],
      "source": [
        "Z1 = 4 - 3 * 1j\n",
        "Z1"
      ]
    },
    {
      "cell_type": "code",
      "execution_count": null,
      "id": "c61270a0",
      "metadata": {
        "id": "c61270a0",
        "outputId": "db16c162-9a46-4109-d952-997dc3c41556"
      },
      "outputs": [
        {
          "data": {
            "text/plain": [
              "complex"
            ]
          },
          "execution_count": 41,
          "metadata": {},
          "output_type": "execute_result"
        }
      ],
      "source": [
        "type(Z1)"
      ]
    },
    {
      "cell_type": "code",
      "execution_count": null,
      "id": "a59d5142",
      "metadata": {
        "id": "a59d5142",
        "outputId": "4b442d78-c649-48ae-dd79-3a293099624c"
      },
      "outputs": [
        {
          "data": {
            "text/plain": [
              "(3+4j)"
            ]
          },
          "execution_count": 42,
          "metadata": {},
          "output_type": "execute_result"
        }
      ],
      "source": [
        "Z = complex(3,4)\n",
        "Z"
      ]
    },
    {
      "cell_type": "code",
      "execution_count": null,
      "id": "5a43bda5",
      "metadata": {
        "id": "5a43bda5",
        "outputId": "06b39ea1-77f8-4ba0-ef73-62ed7b928547"
      },
      "outputs": [
        {
          "data": {
            "text/plain": [
              "12.98"
            ]
          },
          "execution_count": 43,
          "metadata": {},
          "output_type": "execute_result"
        }
      ],
      "source": [
        "b"
      ]
    },
    {
      "cell_type": "code",
      "execution_count": null,
      "id": "7c313da6",
      "metadata": {
        "id": "7c313da6",
        "outputId": "c76469a4-4a8b-495e-b4d1-64afd542fb0f"
      },
      "outputs": [
        {
          "data": {
            "text/plain": [
              "(12.98+0j)"
            ]
          },
          "execution_count": 44,
          "metadata": {},
          "output_type": "execute_result"
        }
      ],
      "source": [
        "complex(b)"
      ]
    },
    {
      "cell_type": "code",
      "execution_count": null,
      "id": "917d83ad",
      "metadata": {
        "id": "917d83ad",
        "outputId": "c702ad8e-1189-471e-f479-d90394fbc853"
      },
      "outputs": [
        {
          "data": {
            "text/plain": [
              "(7+1j)"
            ]
          },
          "execution_count": 45,
          "metadata": {},
          "output_type": "execute_result"
        }
      ],
      "source": [
        "Z + Z1"
      ]
    },
    {
      "cell_type": "code",
      "execution_count": null,
      "id": "3d6aec7d",
      "metadata": {
        "id": "3d6aec7d",
        "outputId": "39a79e10-83fa-4f8e-ca9d-a42bb35accf1"
      },
      "outputs": [
        {
          "data": {
            "text/plain": [
              "(3+4j)"
            ]
          },
          "execution_count": 46,
          "metadata": {},
          "output_type": "execute_result"
        }
      ],
      "source": [
        "Z"
      ]
    },
    {
      "cell_type": "code",
      "execution_count": null,
      "id": "f8b9d71f",
      "metadata": {
        "id": "f8b9d71f",
        "outputId": "83381d64-53a9-4483-f028-a8237e8661b2"
      },
      "outputs": [
        {
          "ename": "TypeError",
          "evalue": "can't convert complex to int",
          "output_type": "error",
          "traceback": [
            "\u001b[1;31m---------------------------------------------------------------------------\u001b[0m",
            "\u001b[1;31mTypeError\u001b[0m                                 Traceback (most recent call last)",
            "\u001b[1;32m~\\AppData\\Local\\Temp/ipykernel_7520/1660020182.py\u001b[0m in \u001b[0;36m<module>\u001b[1;34m\u001b[0m\n\u001b[1;32m----> 1\u001b[1;33m \u001b[0mint\u001b[0m\u001b[1;33m(\u001b[0m\u001b[0mZ\u001b[0m\u001b[1;33m)\u001b[0m\u001b[1;33m\u001b[0m\u001b[1;33m\u001b[0m\u001b[0m\n\u001b[0m",
            "\u001b[1;31mTypeError\u001b[0m: can't convert complex to int"
          ]
        }
      ],
      "source": [
        "int(Z)"
      ]
    },
    {
      "cell_type": "code",
      "execution_count": null,
      "id": "a0439ba5",
      "metadata": {
        "id": "a0439ba5",
        "outputId": "ee6b3d64-e073-4053-9a8d-59787fdbb550"
      },
      "outputs": [
        {
          "ename": "TypeError",
          "evalue": "can't convert complex to float",
          "output_type": "error",
          "traceback": [
            "\u001b[1;31m---------------------------------------------------------------------------\u001b[0m",
            "\u001b[1;31mTypeError\u001b[0m                                 Traceback (most recent call last)",
            "\u001b[1;32m~\\AppData\\Local\\Temp/ipykernel_7520/3889373928.py\u001b[0m in \u001b[0;36m<module>\u001b[1;34m\u001b[0m\n\u001b[1;32m----> 1\u001b[1;33m \u001b[0mfloat\u001b[0m\u001b[1;33m(\u001b[0m\u001b[0mZ\u001b[0m\u001b[1;33m)\u001b[0m\u001b[1;33m\u001b[0m\u001b[1;33m\u001b[0m\u001b[0m\n\u001b[0m",
            "\u001b[1;31mTypeError\u001b[0m: can't convert complex to float"
          ]
        }
      ],
      "source": [
        "float(Z)"
      ]
    },
    {
      "cell_type": "code",
      "execution_count": null,
      "id": "52606480",
      "metadata": {
        "id": "52606480",
        "outputId": "b2d02dfc-b4a7-49b8-8aef-2274bb97e92a"
      },
      "outputs": [
        {
          "data": {
            "text/plain": [
              "4.0"
            ]
          },
          "execution_count": 49,
          "metadata": {},
          "output_type": "execute_result"
        }
      ],
      "source": [
        "Z.imag"
      ]
    },
    {
      "cell_type": "code",
      "execution_count": null,
      "id": "13134d9d",
      "metadata": {
        "id": "13134d9d",
        "outputId": "627d0b5f-52d2-4fc2-c268-c1cc924add5e"
      },
      "outputs": [
        {
          "data": {
            "text/plain": [
              "4"
            ]
          },
          "execution_count": 50,
          "metadata": {},
          "output_type": "execute_result"
        }
      ],
      "source": [
        "int(Z.imag)"
      ]
    },
    {
      "cell_type": "markdown",
      "id": "278e35d7",
      "metadata": {
        "id": "278e35d7"
      },
      "source": [
        "## <font color='157699'> **Cadenas de caracteres** </font>"
      ]
    },
    {
      "cell_type": "code",
      "execution_count": null,
      "id": "7c613258",
      "metadata": {
        "id": "7c613258"
      },
      "outputs": [],
      "source": [
        "# Creación\n",
        "lugar = 'Casa'\n",
        "barrio = \"Laureles\"\n",
        "Piso = 'Octavo'"
      ]
    },
    {
      "cell_type": "code",
      "execution_count": null,
      "id": "6a832031",
      "metadata": {
        "id": "6a832031",
        "outputId": "8c17c3ec-6a32-4ce5-f863-456d30694b7a"
      },
      "outputs": [
        {
          "data": {
            "text/plain": [
              "str"
            ]
          },
          "execution_count": 52,
          "metadata": {},
          "output_type": "execute_result"
        }
      ],
      "source": [
        "type(lugar)"
      ]
    },
    {
      "cell_type": "code",
      "execution_count": null,
      "id": "66a9994a",
      "metadata": {
        "id": "66a9994a",
        "outputId": "a20f9c51-449b-41d0-9d18-7d1e2fff26f2"
      },
      "outputs": [
        {
          "data": {
            "text/plain": [
              "'Laureles'"
            ]
          },
          "execution_count": 53,
          "metadata": {},
          "output_type": "execute_result"
        }
      ],
      "source": [
        "barrio"
      ]
    },
    {
      "cell_type": "code",
      "execution_count": null,
      "id": "098264bb",
      "metadata": {
        "id": "098264bb",
        "outputId": "1874c5aa-7bec-483c-960c-8e462bedac80"
      },
      "outputs": [
        {
          "data": {
            "text/plain": [
              "'18'"
            ]
          },
          "execution_count": 54,
          "metadata": {},
          "output_type": "execute_result"
        }
      ],
      "source": [
        "str(18)"
      ]
    },
    {
      "cell_type": "code",
      "execution_count": null,
      "id": "026e5579",
      "metadata": {
        "id": "026e5579",
        "outputId": "4467effa-5fb1-4403-daec-b806fdd4da7f"
      },
      "outputs": [
        {
          "data": {
            "text/plain": [
              "'Sofía, alias \"Sofi\"'"
            ]
          },
          "execution_count": 55,
          "metadata": {},
          "output_type": "execute_result"
        }
      ],
      "source": [
        "mensaje = 'Sofía, alias \"Sofi\"'\n",
        "mensaje"
      ]
    },
    {
      "cell_type": "code",
      "execution_count": null,
      "id": "1de686c8",
      "metadata": {
        "id": "1de686c8",
        "outputId": "bdd6cd2a-25dd-43a2-aae0-27fc58c7d2a0"
      },
      "outputs": [
        {
          "data": {
            "text/plain": [
              "\"I'm in class\""
            ]
          },
          "execution_count": 56,
          "metadata": {},
          "output_type": "execute_result"
        }
      ],
      "source": [
        "message = \"I'm in class\"\n",
        "message"
      ]
    },
    {
      "cell_type": "markdown",
      "id": "a69c79ea",
      "metadata": {
        "id": "a69c79ea"
      },
      "source": [
        "**Variables de valor lógico**"
      ]
    },
    {
      "cell_type": "code",
      "execution_count": null,
      "id": "96785375",
      "metadata": {
        "id": "96785375",
        "outputId": "32722edc-d180-4ef2-f717-717c9a8fb893"
      },
      "outputs": [
        {
          "data": {
            "text/plain": [
              "True"
            ]
          },
          "execution_count": 57,
          "metadata": {},
          "output_type": "execute_result"
        }
      ],
      "source": [
        "3 == 4 - 1"
      ]
    },
    {
      "cell_type": "code",
      "execution_count": null,
      "id": "6d986fcf",
      "metadata": {
        "id": "6d986fcf",
        "outputId": "4e3c2825-7c33-4928-bb09-815d545abd22"
      },
      "outputs": [
        {
          "data": {
            "text/plain": [
              "False"
            ]
          },
          "execution_count": 58,
          "metadata": {},
          "output_type": "execute_result"
        }
      ],
      "source": [
        "3 == 4"
      ]
    },
    {
      "cell_type": "code",
      "execution_count": null,
      "id": "f27bca12",
      "metadata": {
        "id": "f27bca12"
      },
      "outputs": [],
      "source": [
        "verdadero = True\n",
        "Falso = False"
      ]
    },
    {
      "cell_type": "code",
      "execution_count": null,
      "id": "76db4e51",
      "metadata": {
        "id": "76db4e51",
        "outputId": "51c205d3-4269-465f-bcaf-6ca7e6fc8b1f"
      },
      "outputs": [
        {
          "data": {
            "text/plain": [
              "True"
            ]
          },
          "execution_count": 60,
          "metadata": {},
          "output_type": "execute_result"
        }
      ],
      "source": [
        "verdadero"
      ]
    },
    {
      "cell_type": "markdown",
      "id": "ed190395",
      "metadata": {
        "id": "ed190395"
      },
      "source": [
        "## <font color='157699'> **Entrada y salida de datos** </font>"
      ]
    },
    {
      "cell_type": "markdown",
      "id": "ad5d732c",
      "metadata": {
        "id": "ad5d732c"
      },
      "source": [
        "### <font color='46B8A9'> **Entrada** </font>\n",
        "\n",
        "Se usa la función `input()` para entrada directa de información en la celda/consola. Con esta función <font color=red>**siempre**</font> se obtienen datos de tipo cadena de caracteres.\n",
        "<br>\n",
        "Sintaxis: $\\qquad$ `variable = input(mensaje)`"
      ]
    },
    {
      "cell_type": "code",
      "execution_count": null,
      "id": "60cb201c",
      "metadata": {
        "id": "60cb201c",
        "outputId": "b1a830f5-f523-4ff1-c49c-57fee7c7c6b6"
      },
      "outputs": [
        {
          "name": "stdout",
          "output_type": "stream",
          "text": [
            "Jorge\n"
          ]
        }
      ],
      "source": [
        "nombre = input()"
      ]
    },
    {
      "cell_type": "code",
      "execution_count": null,
      "id": "ca38adcb",
      "metadata": {
        "id": "ca38adcb",
        "outputId": "a3b9c1b8-2d7b-43e1-e1f5-7c06e19bfcba"
      },
      "outputs": [
        {
          "data": {
            "text/plain": [
              "'Jorge'"
            ]
          },
          "execution_count": 76,
          "metadata": {},
          "output_type": "execute_result"
        }
      ],
      "source": [
        "nombre"
      ]
    },
    {
      "cell_type": "code",
      "execution_count": null,
      "id": "d6e9d8b9",
      "metadata": {
        "id": "d6e9d8b9",
        "outputId": "affa703b-d167-4188-a876-c424e295f6d6"
      },
      "outputs": [
        {
          "name": "stdout",
          "output_type": "stream",
          "text": [
            "84\n"
          ]
        }
      ],
      "source": [
        "nombre = input()"
      ]
    },
    {
      "cell_type": "code",
      "execution_count": null,
      "id": "3f47b590",
      "metadata": {
        "id": "3f47b590",
        "outputId": "757fafc8-bb28-46d2-ec3f-7184a8698231"
      },
      "outputs": [
        {
          "ename": "TypeError",
          "evalue": "can only concatenate str (not \"int\") to str",
          "output_type": "error",
          "traceback": [
            "\u001b[1;31m---------------------------------------------------------------------------\u001b[0m",
            "\u001b[1;31mTypeError\u001b[0m                                 Traceback (most recent call last)",
            "\u001b[1;32m~\\AppData\\Local\\Temp/ipykernel_7520/2579404621.py\u001b[0m in \u001b[0;36m<module>\u001b[1;34m\u001b[0m\n\u001b[1;32m----> 1\u001b[1;33m \u001b[0mnombre\u001b[0m \u001b[1;33m+\u001b[0m \u001b[1;36m6\u001b[0m\u001b[1;33m\u001b[0m\u001b[1;33m\u001b[0m\u001b[0m\n\u001b[0m",
            "\u001b[1;31mTypeError\u001b[0m: can only concatenate str (not \"int\") to str"
          ]
        }
      ],
      "source": [
        "nombre + 6"
      ]
    },
    {
      "cell_type": "code",
      "execution_count": null,
      "id": "51935299",
      "metadata": {
        "id": "51935299",
        "outputId": "30a75069-51a3-45e1-c77f-cc5c695f476b"
      },
      "outputs": [
        {
          "data": {
            "text/plain": [
              "'84'"
            ]
          },
          "execution_count": 79,
          "metadata": {},
          "output_type": "execute_result"
        }
      ],
      "source": [
        "nombre"
      ]
    },
    {
      "cell_type": "code",
      "execution_count": null,
      "id": "e3d37ae2",
      "metadata": {
        "id": "e3d37ae2",
        "outputId": "16a49d18-6dc9-4cb8-f889-08509045e9a0"
      },
      "outputs": [
        {
          "name": "stdout",
          "output_type": "stream",
          "text": [
            "Escriba su nombre:Jahir\n"
          ]
        }
      ],
      "source": [
        "nombre = input('Escriba su nombre:')"
      ]
    },
    {
      "cell_type": "code",
      "execution_count": null,
      "id": "aa274c46",
      "metadata": {
        "id": "aa274c46",
        "outputId": "7c2e2c2d-5306-4c45-da71-735f3b56e5d5"
      },
      "outputs": [
        {
          "name": "stdout",
          "output_type": "stream",
          "text": [
            "Escriba su nombre:    Julián\n"
          ]
        }
      ],
      "source": [
        "nombre = input('Escriba su nombre:    ')"
      ]
    },
    {
      "cell_type": "code",
      "execution_count": null,
      "id": "98b4dc92",
      "metadata": {
        "id": "98b4dc92",
        "outputId": "038b6ba0-837c-4cb0-f85d-90d2d51ae166"
      },
      "outputs": [
        {
          "data": {
            "text/plain": [
              "'Julián'"
            ]
          },
          "execution_count": 82,
          "metadata": {},
          "output_type": "execute_result"
        }
      ],
      "source": [
        "nombre"
      ]
    },
    {
      "cell_type": "markdown",
      "id": "5dc67cbc",
      "metadata": {
        "id": "5dc67cbc"
      },
      "source": [
        "**Entrada de datos numéricos**"
      ]
    },
    {
      "cell_type": "code",
      "execution_count": null,
      "id": "42deff01",
      "metadata": {
        "id": "42deff01",
        "outputId": "e5252811-9413-453c-f831-db144d3c1284"
      },
      "outputs": [
        {
          "name": "stdout",
          "output_type": "stream",
          "text": [
            "Ingrese su edad:    22\n"
          ]
        }
      ],
      "source": [
        "edad = int(input('Ingrese su edad:    '))"
      ]
    },
    {
      "cell_type": "code",
      "execution_count": null,
      "id": "f4c1255c",
      "metadata": {
        "id": "f4c1255c",
        "outputId": "6c375bd3-d2e0-4daf-be1d-945ca0b187db"
      },
      "outputs": [
        {
          "data": {
            "text/plain": [
              "22"
            ]
          },
          "execution_count": 84,
          "metadata": {},
          "output_type": "execute_result"
        }
      ],
      "source": [
        "edad"
      ]
    },
    {
      "cell_type": "code",
      "execution_count": null,
      "id": "8c8d4803",
      "metadata": {
        "id": "8c8d4803",
        "outputId": "02662f0e-80c0-477b-c222-bda69fb272d9"
      },
      "outputs": [
        {
          "data": {
            "text/plain": [
              "int"
            ]
          },
          "execution_count": 85,
          "metadata": {},
          "output_type": "execute_result"
        }
      ],
      "source": [
        "type(edad)"
      ]
    },
    {
      "cell_type": "code",
      "execution_count": null,
      "id": "f70687fc",
      "metadata": {
        "id": "f70687fc",
        "outputId": "709af5bf-c612-43b5-9e7f-4ff002c4d822"
      },
      "outputs": [
        {
          "data": {
            "text/plain": [
              "27"
            ]
          },
          "execution_count": 86,
          "metadata": {},
          "output_type": "execute_result"
        }
      ],
      "source": [
        "edad + 5"
      ]
    },
    {
      "cell_type": "code",
      "execution_count": null,
      "id": "ac1a6520",
      "metadata": {
        "id": "ac1a6520",
        "outputId": "811a018f-78e2-4897-ec79-7e1dd1bf9998"
      },
      "outputs": [
        {
          "name": "stdout",
          "output_type": "stream",
          "text": [
            "Temperatura de saturación [C]:    169.7\n"
          ]
        }
      ],
      "source": [
        "T_sat = float(input('Temperatura de saturación [C]:    '))"
      ]
    },
    {
      "cell_type": "code",
      "execution_count": null,
      "id": "e751386c",
      "metadata": {
        "id": "e751386c",
        "outputId": "a743bdfd-a92d-4fb6-af5e-97e26772b8a3"
      },
      "outputs": [
        {
          "data": {
            "text/plain": [
              "169.7"
            ]
          },
          "execution_count": 89,
          "metadata": {},
          "output_type": "execute_result"
        }
      ],
      "source": [
        "T_sat"
      ]
    },
    {
      "cell_type": "code",
      "execution_count": null,
      "id": "b0d62745",
      "metadata": {
        "id": "b0d62745",
        "outputId": "4c0203cf-6e99-4b5c-fcab-9d82739878de"
      },
      "outputs": [
        {
          "name": "stdout",
          "output_type": "stream",
          "text": [
            "Ingrese su edad:    23.47\n"
          ]
        },
        {
          "ename": "ValueError",
          "evalue": "invalid literal for int() with base 10: '23.47'",
          "output_type": "error",
          "traceback": [
            "\u001b[1;31m---------------------------------------------------------------------------\u001b[0m",
            "\u001b[1;31mValueError\u001b[0m                                Traceback (most recent call last)",
            "\u001b[1;32m~\\AppData\\Local\\Temp/ipykernel_7520/453421227.py\u001b[0m in \u001b[0;36m<module>\u001b[1;34m\u001b[0m\n\u001b[1;32m----> 1\u001b[1;33m \u001b[0medad\u001b[0m \u001b[1;33m=\u001b[0m \u001b[0mint\u001b[0m\u001b[1;33m(\u001b[0m\u001b[0minput\u001b[0m\u001b[1;33m(\u001b[0m\u001b[1;34m'Ingrese su edad:    '\u001b[0m\u001b[1;33m)\u001b[0m\u001b[1;33m)\u001b[0m\u001b[1;33m\u001b[0m\u001b[1;33m\u001b[0m\u001b[0m\n\u001b[0m",
            "\u001b[1;31mValueError\u001b[0m: invalid literal for int() with base 10: '23.47'"
          ]
        }
      ],
      "source": [
        "edad = int(input('Ingrese su edad:    '))"
      ]
    },
    {
      "cell_type": "markdown",
      "id": "50ee4b3c",
      "metadata": {
        "id": "50ee4b3c"
      },
      "source": [
        "### <font color='46B8A9'> **Salida** </font>\n",
        "\n",
        "Se pueden usar cadenas de caracteres con un prefijo: `f'mensaje + variables'`\n",
        "<br>\n",
        "Se usa la función `print()`"
      ]
    },
    {
      "cell_type": "code",
      "execution_count": null,
      "id": "ad5323f6",
      "metadata": {
        "id": "ad5323f6"
      },
      "outputs": [],
      "source": [
        "nombre = 'Facundo'\n",
        "edad = 53"
      ]
    },
    {
      "cell_type": "code",
      "execution_count": null,
      "id": "19eaf2c7",
      "metadata": {
        "id": "19eaf2c7",
        "outputId": "ee070fc2-764c-4e36-9b84-b0c0297316a1"
      },
      "outputs": [
        {
          "data": {
            "text/plain": [
              "'La edad de Facundo es 53 años'"
            ]
          },
          "execution_count": 94,
          "metadata": {},
          "output_type": "execute_result"
        }
      ],
      "source": [
        "f'La edad de {nombre} es {edad} años'"
      ]
    },
    {
      "cell_type": "markdown",
      "id": "f6a3e5ac",
      "metadata": {
        "id": "f6a3e5ac"
      },
      "source": [
        "**Función `print()`**"
      ]
    },
    {
      "cell_type": "code",
      "execution_count": null,
      "id": "68b95639",
      "metadata": {
        "id": "68b95639",
        "outputId": "bf6c5ef1-80c0-43b5-d305-fbcd94e93c3e"
      },
      "outputs": [
        {
          "name": "stdout",
          "output_type": "stream",
          "text": [
            "La edad de Facundo es 53 años\n"
          ]
        }
      ],
      "source": [
        "print('La edad de',nombre,'es',edad,'años')"
      ]
    },
    {
      "cell_type": "code",
      "execution_count": null,
      "id": "5014a9d3",
      "metadata": {
        "id": "5014a9d3",
        "outputId": "1138f885-caea-4e89-f2b3-4c209daa80fc"
      },
      "outputs": [
        {
          "name": "stdout",
          "output_type": "stream",
          "text": [
            "La edad de - Facundo - es - 53 - años\n"
          ]
        }
      ],
      "source": [
        "print('La edad de',nombre,'es',edad,'años',sep=' - ')"
      ]
    },
    {
      "cell_type": "code",
      "execution_count": null,
      "id": "8343208a",
      "metadata": {
        "id": "8343208a",
        "outputId": "861291ba-ea38-4d30-d90e-1ec7392605b7"
      },
      "outputs": [
        {
          "name": "stdout",
          "output_type": "stream",
          "text": [
            "La edad de\t\tFacundo\t\tes\t\t53\t\taños\n"
          ]
        }
      ],
      "source": [
        "print('La edad de',nombre,'es',edad,'años',sep='\\t\\t')"
      ]
    },
    {
      "cell_type": "code",
      "execution_count": null,
      "id": "09db2af5",
      "metadata": {
        "id": "09db2af5",
        "outputId": "1041ec38-3be6-4fbc-abae-195e07106355"
      },
      "outputs": [
        {
          "name": "stdout",
          "output_type": "stream",
          "text": [
            "La edad de\n",
            "Facundo\n",
            "es\n",
            "53\n",
            "años\n"
          ]
        }
      ],
      "source": [
        "print('La edad de',nombre,'es',edad,'años',sep='\\n')"
      ]
    },
    {
      "cell_type": "code",
      "execution_count": null,
      "id": "67ea419e",
      "metadata": {
        "id": "67ea419e",
        "outputId": "4eb6d0f1-ac09-4ffb-f9a3-aced26f46dac"
      },
      "outputs": [
        {
          "data": {
            "text/plain": [
              "3.141592653589793"
            ]
          },
          "execution_count": 100,
          "metadata": {},
          "output_type": "execute_result"
        }
      ],
      "source": [
        "pi"
      ]
    },
    {
      "cell_type": "code",
      "execution_count": null,
      "id": "fcc01b04",
      "metadata": {
        "id": "fcc01b04",
        "outputId": "83c0cbeb-7745-4e64-92a2-b81a33295db7"
      },
      "outputs": [
        {
          "name": "stdout",
          "output_type": "stream",
          "text": [
            "pi =  3.141592653589793\n"
          ]
        }
      ],
      "source": [
        "print('pi = ', pi)"
      ]
    },
    {
      "cell_type": "code",
      "execution_count": null,
      "id": "3f88739f",
      "metadata": {
        "id": "3f88739f",
        "outputId": "d41f5f6f-151d-481b-f6b6-7e4560dc65cd"
      },
      "outputs": [
        {
          "name": "stdout",
          "output_type": "stream",
          "text": [
            "pi = 3.1416\n"
          ]
        }
      ],
      "source": [
        "print('pi = %.4f' % pi)"
      ]
    },
    {
      "cell_type": "code",
      "execution_count": null,
      "id": "c05cd5b2",
      "metadata": {
        "id": "c05cd5b2",
        "outputId": "6c4cb7e9-1a3c-41bc-e7f0-9368a8c8b4fa"
      },
      "outputs": [
        {
          "data": {
            "text/plain": [
              "3.141592653589793"
            ]
          },
          "execution_count": 103,
          "metadata": {},
          "output_type": "execute_result"
        }
      ],
      "source": [
        "pi"
      ]
    },
    {
      "cell_type": "code",
      "execution_count": null,
      "id": "a1a60215",
      "metadata": {
        "id": "a1a60215",
        "outputId": "e387f650-fea5-45b2-a49d-7bffdd77d2ab"
      },
      "outputs": [
        {
          "data": {
            "text/plain": [
              "1.7320508075688772"
            ]
          },
          "execution_count": 104,
          "metadata": {},
          "output_type": "execute_result"
        }
      ],
      "source": [
        "raiz = np.sqrt(3)\n",
        "raiz"
      ]
    },
    {
      "cell_type": "code",
      "execution_count": null,
      "id": "4fd56bab",
      "metadata": {
        "id": "4fd56bab",
        "outputId": "4bcb41c8-27a9-4449-9fb8-f1d78f86cca9"
      },
      "outputs": [
        {
          "name": "stdout",
          "output_type": "stream",
          "text": [
            "pi = 3.1416, y la raíz de 3 es: 1.732\n"
          ]
        }
      ],
      "source": [
        "print('pi = %.4f, y la raíz de 3 es: %.3f' % (pi, raiz))"
      ]
    },
    {
      "cell_type": "code",
      "execution_count": null,
      "id": "dfd1d565",
      "metadata": {
        "id": "dfd1d565",
        "outputId": "f201fe02-b6ce-4e86-df30-80d625992bba"
      },
      "outputs": [
        {
          "name": "stdout",
          "output_type": "stream",
          "text": [
            "pi = 3.1416, y la raíz de 3 es: 1\n"
          ]
        }
      ],
      "source": [
        "print('pi = %.4f, y la raíz de 3 es: %d' % (pi, raiz))"
      ]
    },
    {
      "cell_type": "code",
      "execution_count": null,
      "id": "cab073d7",
      "metadata": {
        "id": "cab073d7",
        "outputId": "6d7284ca-0fcf-49c0-84e0-5799e41af3f7"
      },
      "outputs": [
        {
          "name": "stdout",
          "output_type": "stream",
          "text": [
            "La edad de Facundo es 53 años\n"
          ]
        }
      ],
      "source": [
        "print('La edad de %s es %d años' % (nombre, edad))"
      ]
    },
    {
      "cell_type": "code",
      "execution_count": null,
      "id": "4a966967",
      "metadata": {
        "id": "4a966967",
        "outputId": "d2c695b0-67cb-480a-acd8-84f00eacae0f"
      },
      "outputs": [
        {
          "name": "stdout",
          "output_type": "stream",
          "text": [
            "Help on built-in function print in module builtins:\n",
            "\n",
            "print(...)\n",
            "    print(value, ..., sep=' ', end='\\n', file=sys.stdout, flush=False)\n",
            "    \n",
            "    Prints the values to a stream, or to sys.stdout by default.\n",
            "    Optional keyword arguments:\n",
            "    file:  a file-like object (stream); defaults to the current sys.stdout.\n",
            "    sep:   string inserted between values, default a space.\n",
            "    end:   string appended after the last value, default a newline.\n",
            "    flush: whether to forcibly flush the stream.\n",
            "\n"
          ]
        }
      ],
      "source": [
        "help(print)"
      ]
    }
  ],
  "metadata": {
    "kernelspec": {
      "display_name": "Python 3 (ipykernel)",
      "language": "python",
      "name": "python3"
    },
    "language_info": {
      "codemirror_mode": {
        "name": "ipython",
        "version": 3
      },
      "file_extension": ".py",
      "mimetype": "text/x-python",
      "name": "python",
      "nbconvert_exporter": "python",
      "pygments_lexer": "ipython3",
      "version": "3.9.7"
    },
    "colab": {
      "provenance": []
    }
  },
  "nbformat": 4,
  "nbformat_minor": 5
}