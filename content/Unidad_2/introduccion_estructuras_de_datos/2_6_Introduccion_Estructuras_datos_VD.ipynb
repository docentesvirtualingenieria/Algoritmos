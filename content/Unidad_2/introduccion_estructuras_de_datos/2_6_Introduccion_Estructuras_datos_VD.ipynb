{
  "cells": [
    {
      "cell_type": "markdown",
      "source": [
        "<p><img alt=\"banner\" height=\"252px\" width=\"1080px\" src=\"https://docs.google.com/uc?export=download&id=1YJrz-tzQUkofEE37sRUdlCbnXf10gJlF\"  align=\"center\" hspace=\"10px\" vspace=\"0px\"></p>"
      ],
      "metadata": {
        "id": "zIfC75lKsHYA"
      },
      "id": "zIfC75lKsHYA"
    },
    {
      "cell_type": "markdown",
      "id": "87a881ce",
      "metadata": {
        "id": "87a881ce"
      },
      "source": [
        "# <font color='056938'> 2.6 -  **Introducción a las** </font> <font color='8EC044'> **estructuras de datos** </font>\n",
        "\n",
        "\n",
        "---\n",
        "\n"
      ]
    },
    {
      "cell_type": "markdown",
      "id": "94c21f03",
      "metadata": {
        "id": "94c21f03"
      },
      "source": [
        "## <font color='157699'> **Cadenas de caracteres** </font>\n",
        "\n",
        "Las cadenas de caracteres son estructuras homogéneas, ya que contienen únicamente datos de tipo *string*.\n",
        "\n"
      ]
    },
    {
      "cell_type": "code",
      "execution_count": null,
      "id": "06239130",
      "metadata": {
        "id": "06239130",
        "outputId": "83ea7f14-dc1f-4218-bc51-a9324c57d7ef",
        "colab": {
          "base_uri": "https://localhost:8080/",
          "height": 35
        }
      },
      "outputs": [
        {
          "output_type": "execute_result",
          "data": {
            "text/plain": [
              "'Luis Carlos'"
            ],
            "application/vnd.google.colaboratory.intrinsic+json": {
              "type": "string"
            }
          },
          "metadata": {},
          "execution_count": 1
        }
      ],
      "source": [
        "Nombre = 'Luis Carlos'\n",
        "Nombre"
      ]
    },
    {
      "cell_type": "code",
      "source": [
        "type(Nombre)"
      ],
      "metadata": {
        "colab": {
          "base_uri": "https://localhost:8080/"
        },
        "id": "aDRmSPE1bn0r",
        "outputId": "e3ce429b-ba0c-49ce-d48b-62b05ce96f38"
      },
      "id": "aDRmSPE1bn0r",
      "execution_count": null,
      "outputs": [
        {
          "output_type": "execute_result",
          "data": {
            "text/plain": [
              "str"
            ]
          },
          "metadata": {},
          "execution_count": 26
        }
      ]
    },
    {
      "cell_type": "markdown",
      "id": "e1c8d934",
      "metadata": {
        "id": "e1c8d934"
      },
      "source": [
        "**Longitud: cantidad de elementos:**\n",
        "\n",
        "La función `len()` permite determinar la longitud de una cadena de caracteres"
      ]
    },
    {
      "cell_type": "code",
      "execution_count": null,
      "id": "e3ccc073",
      "metadata": {
        "id": "e3ccc073",
        "colab": {
          "base_uri": "https://localhost:8080/"
        },
        "outputId": "720e14b1-298c-4145-d46d-a2cd84a7b550"
      },
      "outputs": [
        {
          "output_type": "execute_result",
          "data": {
            "text/plain": [
              "11"
            ]
          },
          "metadata": {},
          "execution_count": 2
        }
      ],
      "source": [
        "len(Nombre)"
      ]
    },
    {
      "cell_type": "markdown",
      "id": "75b3bdda",
      "metadata": {
        "id": "75b3bdda"
      },
      "source": [
        "### <font color='46B8A9'> **Indexación simple:** </font> \n",
        "\n",
        "Posición de los elementos dentro de una estructura de datos"
      ]
    },
    {
      "cell_type": "markdown",
      "source": [
        "### <font color='46B8A9'> **Indexación convencional:** </font>\n",
        "\n",
        "Inicia en cero (0) para el primer elemento, y va hasta $n-1$, donde $n$ es la cantidad de elementos en la estructura de datos (`len(string)`)"
      ],
      "metadata": {
        "id": "Y_WaDHSyvyeh"
      },
      "id": "Y_WaDHSyvyeh"
    },
    {
      "cell_type": "code",
      "execution_count": null,
      "id": "42be1d0b",
      "metadata": {
        "id": "42be1d0b",
        "outputId": "47d928df-412f-4f35-cdf3-96563e2192ee",
        "colab": {
          "base_uri": "https://localhost:8080/"
        }
      },
      "outputs": [
        {
          "output_type": "stream",
          "name": "stdout",
          "text": [
            "Elemento\tÍndice\n",
            "------------------------------\n",
            "L\t\t0\n",
            "u\t\t1\n",
            "i\t\t2\n",
            "s\t\t3\n",
            " \t\t4\n",
            "C\t\t5\n",
            "a\t\t6\n",
            "r\t\t7\n",
            "l\t\t8\n",
            "o\t\t9\n",
            "s\t\t10\n"
          ]
        }
      ],
      "source": [
        "print('Elemento','Índice', sep='\\t')\n",
        "print('-'*30)\n",
        "for i in range(len(Nombre)):\n",
        "    print(Nombre[i], i, sep='\\t\\t')\n"
      ]
    },
    {
      "cell_type": "code",
      "execution_count": null,
      "id": "91e95025",
      "metadata": {
        "id": "91e95025",
        "outputId": "4f14b8ce-0e85-4741-8b0f-5622b3489845",
        "colab": {
          "base_uri": "https://localhost:8080/",
          "height": 35
        }
      },
      "outputs": [
        {
          "output_type": "execute_result",
          "data": {
            "text/plain": [
              "'L'"
            ],
            "application/vnd.google.colaboratory.intrinsic+json": {
              "type": "string"
            }
          },
          "metadata": {},
          "execution_count": 7
        }
      ],
      "source": [
        "Nombre[0]"
      ]
    },
    {
      "cell_type": "code",
      "execution_count": null,
      "id": "e0c16c7e",
      "metadata": {
        "id": "e0c16c7e",
        "outputId": "49c5a79a-7f77-40d2-9edd-8e1cb71f7fb7",
        "colab": {
          "base_uri": "https://localhost:8080/",
          "height": 35
        }
      },
      "outputs": [
        {
          "output_type": "execute_result",
          "data": {
            "text/plain": [
              "'r'"
            ],
            "application/vnd.google.colaboratory.intrinsic+json": {
              "type": "string"
            }
          },
          "metadata": {},
          "execution_count": 9
        }
      ],
      "source": [
        "Nombre[7]"
      ]
    },
    {
      "cell_type": "markdown",
      "source": [
        "### <font color='46B8A9'> **Indexación inversa:** </font>\n",
        "\n",
        "En Python se puede hacer indexación comenzando con el último elemento de una estructura de datos, el cual tendrá el índice -1. Los elementos atrás de éste disminuyen su índice en -1 por cada posición:"
      ],
      "metadata": {
        "id": "Tl6CdPUJwP7l"
      },
      "id": "Tl6CdPUJwP7l"
    },
    {
      "cell_type": "code",
      "source": [
        "n = len(Nombre)\n",
        "print('Elemento\\t','Índice convencional\\t', 'Índice invertido', sep='')\n",
        "print('-'*56)\n",
        "for i in range(len(Nombre)):\n",
        "    print(Nombre[i], i, i-n, sep='\\t\\t\\t')"
      ],
      "metadata": {
        "colab": {
          "base_uri": "https://localhost:8080/"
        },
        "id": "QUvO_y_5wt19",
        "outputId": "032649c4-24d5-4e73-b3ac-c5cf590608db"
      },
      "id": "QUvO_y_5wt19",
      "execution_count": null,
      "outputs": [
        {
          "output_type": "stream",
          "name": "stdout",
          "text": [
            "Elemento\tÍndice convencional\tÍndice invertido\n",
            "--------------------------------------------------------\n",
            "L\t\t\t0\t\t\t-11\n",
            "u\t\t\t1\t\t\t-10\n",
            "i\t\t\t2\t\t\t-9\n",
            "s\t\t\t3\t\t\t-8\n",
            " \t\t\t4\t\t\t-7\n",
            "C\t\t\t5\t\t\t-6\n",
            "a\t\t\t6\t\t\t-5\n",
            "r\t\t\t7\t\t\t-4\n",
            "l\t\t\t8\t\t\t-3\n",
            "o\t\t\t9\t\t\t-2\n",
            "s\t\t\t10\t\t\t-1\n"
          ]
        }
      ]
    },
    {
      "cell_type": "code",
      "execution_count": null,
      "id": "6a06b6fe",
      "metadata": {
        "id": "6a06b6fe",
        "outputId": "72f6d01c-1af1-49bf-bd7f-20e761faf1da",
        "colab": {
          "base_uri": "https://localhost:8080/",
          "height": 35
        }
      },
      "outputs": [
        {
          "output_type": "execute_result",
          "data": {
            "text/plain": [
              "'s'"
            ],
            "application/vnd.google.colaboratory.intrinsic+json": {
              "type": "string"
            }
          },
          "metadata": {},
          "execution_count": 10
        }
      ],
      "source": [
        "Nombre[-1]"
      ]
    },
    {
      "cell_type": "code",
      "execution_count": null,
      "id": "dfac3bec",
      "metadata": {
        "id": "dfac3bec",
        "outputId": "f9b48793-ac44-46b8-8b0b-e9751b9d70b8",
        "colab": {
          "base_uri": "https://localhost:8080/",
          "height": 35
        }
      },
      "outputs": [
        {
          "output_type": "execute_result",
          "data": {
            "text/plain": [
              "'a'"
            ],
            "application/vnd.google.colaboratory.intrinsic+json": {
              "type": "string"
            }
          },
          "metadata": {},
          "execution_count": 12
        }
      ],
      "source": [
        "Nombre[-5]"
      ]
    },
    {
      "cell_type": "code",
      "execution_count": null,
      "id": "16f4e6a5",
      "metadata": {
        "id": "16f4e6a5",
        "outputId": "0c9dcf1d-8f48-4bd6-9522-cf02bc9c1247",
        "colab": {
          "base_uri": "https://localhost:8080/",
          "height": 35
        }
      },
      "outputs": [
        {
          "output_type": "execute_result",
          "data": {
            "text/plain": [
              "'u'"
            ],
            "application/vnd.google.colaboratory.intrinsic+json": {
              "type": "string"
            }
          },
          "metadata": {},
          "execution_count": 16
        }
      ],
      "source": [
        "Nombre[-10]"
      ]
    },
    {
      "cell_type": "markdown",
      "source": [
        "El primer elemento de cualquier estructura se puede hallar usando indexación inversa y la longitud de ésta:"
      ],
      "metadata": {
        "id": "Sb3jXDDcyDCL"
      },
      "id": "Sb3jXDDcyDCL"
    },
    {
      "cell_type": "code",
      "execution_count": null,
      "id": "8d67a9b6",
      "metadata": {
        "id": "8d67a9b6",
        "outputId": "52681977-1274-4166-fab3-1997e893dc70",
        "colab": {
          "base_uri": "https://localhost:8080/",
          "height": 35
        }
      },
      "outputs": [
        {
          "output_type": "execute_result",
          "data": {
            "text/plain": [
              "'L'"
            ],
            "application/vnd.google.colaboratory.intrinsic+json": {
              "type": "string"
            }
          },
          "metadata": {},
          "execution_count": 23
        }
      ],
      "source": [
        "Nombre[-n]"
      ]
    },
    {
      "cell_type": "markdown",
      "source": [
        "### <font color='46B8A9'> **Indexación por grupos (*slicing*):** </font>\n",
        "\n",
        "En Python es posible acceder a una porción continua de elementos en una estructura de datos, usando indexación por grupos. Esta forma de indexar, también permite acceder a elementos específicos no contiguos."
      ],
      "metadata": {
        "id": "ALxBiqsJyv48"
      },
      "id": "ALxBiqsJyv48"
    },
    {
      "cell_type": "markdown",
      "source": [
        "El último índice del grupo no se incluye, sólo se incluye desde el primero ante el anterior al último indicado: <br>\n",
        "`[i:j]` incluirá desde el índice `i` hasta el índice `j-1`."
      ],
      "metadata": {
        "id": "DocLRT28083s"
      },
      "id": "DocLRT28083s"
    },
    {
      "cell_type": "code",
      "source": [
        "Nombre[0:4]"
      ],
      "metadata": {
        "colab": {
          "base_uri": "https://localhost:8080/",
          "height": 35
        },
        "id": "FKjC_dJS0zFq",
        "outputId": "6173b5b9-8220-46f7-f8cc-d09838ed5a19"
      },
      "id": "FKjC_dJS0zFq",
      "execution_count": null,
      "outputs": [
        {
          "output_type": "execute_result",
          "data": {
            "text/plain": [
              "'Luis'"
            ],
            "application/vnd.google.colaboratory.intrinsic+json": {
              "type": "string"
            }
          },
          "metadata": {},
          "execution_count": 25
        }
      ]
    },
    {
      "cell_type": "markdown",
      "source": [
        "En la unidad 4 se dan más detalles sobre la indexación de estructuras de datos."
      ],
      "metadata": {
        "id": "juIZdvDZ1ZLz"
      },
      "id": "juIZdvDZ1ZLz"
    },
    {
      "cell_type": "markdown",
      "source": [
        "#### <font color='#00B0F0'> **Ejercicio 1** </font>\n",
        "\n",
        "Considere la siguiente cadena de texto \"Hola, este es mi primera práctica con la indexación\"\n",
        "\n",
        "Obtenga el primer caracter de la cadena de texto:"
      ],
      "metadata": {
        "id": "1_6r295V59nE"
      },
      "id": "1_6r295V59nE"
    },
    {
      "cell_type": "code",
      "source": [
        "# Ingrese aquí su respuesta\n"
      ],
      "metadata": {
        "id": "td0Tbdef7cDq"
      },
      "id": "td0Tbdef7cDq",
      "execution_count": null,
      "outputs": []
    },
    {
      "cell_type": "markdown",
      "source": [
        "Obtenga los tres últimos caracteres de la cadena de texto"
      ],
      "metadata": {
        "id": "EpN66sz57gBJ"
      },
      "id": "EpN66sz57gBJ"
    },
    {
      "cell_type": "code",
      "source": [
        "# Ingrese aquí su respuesta\n"
      ],
      "metadata": {
        "id": "UgsiWeg47lL5"
      },
      "id": "UgsiWeg47lL5",
      "execution_count": null,
      "outputs": []
    },
    {
      "cell_type": "markdown",
      "source": [
        "Obtenga los caracteres entre las posiciones 9 y 18 del texto"
      ],
      "metadata": {
        "id": "OVbeiWkq7l9x"
      },
      "id": "OVbeiWkq7l9x"
    },
    {
      "cell_type": "code",
      "source": [
        "# Ingrese aquí su respuesta\n"
      ],
      "metadata": {
        "id": "F-Vudllk7ser"
      },
      "id": "F-Vudllk7ser",
      "execution_count": null,
      "outputs": []
    },
    {
      "cell_type": "markdown",
      "source": [
        "## <font color='157699'> **Arreglos** </font>\n",
        "\n",
        "Los arreglos son estructuras homogéneas, ya que sólo contienen datos de tipo numérico. Éstos pueden ser de una o más dimensiones, y en Python se crean y se usan mediante la librería Numpy, sobre la cual se tratará en la unidad 4."
      ],
      "metadata": {
        "id": "O_xqAYH21zlB"
      },
      "id": "O_xqAYH21zlB"
    },
    {
      "cell_type": "markdown",
      "source": [
        "### <font color='46B8A9'> **Arreglos unidimensionales:** vectores </font>\n",
        "Se tienen datos organizados en forma de lista"
      ],
      "metadata": {
        "id": "XW7mnNXLb7OK"
      },
      "id": "XW7mnNXLb7OK"
    },
    {
      "cell_type": "code",
      "source": [
        "import numpy as np\n",
        "X = np.array([14, 12, 8, 7, 6.41, 5.23, 6.15, 7.25])\n",
        "X"
      ],
      "metadata": {
        "colab": {
          "base_uri": "https://localhost:8080/"
        },
        "id": "hR_fqO3vbV3H",
        "outputId": "6cfc1052-ca2b-4658-b72c-d78880481ad5"
      },
      "id": "hR_fqO3vbV3H",
      "execution_count": null,
      "outputs": [
        {
          "output_type": "execute_result",
          "data": {
            "text/plain": [
              "array([14.  , 12.  ,  8.  ,  7.  ,  6.41,  5.23,  6.15,  7.25])"
            ]
          },
          "metadata": {},
          "execution_count": 27
        }
      ]
    },
    {
      "cell_type": "code",
      "source": [
        "type(X)"
      ],
      "metadata": {
        "colab": {
          "base_uri": "https://localhost:8080/"
        },
        "id": "u9EQ9cpSbtAC",
        "outputId": "bacd5b09-c43c-41f9-dc69-07c32ea560df"
      },
      "id": "u9EQ9cpSbtAC",
      "execution_count": null,
      "outputs": [
        {
          "output_type": "execute_result",
          "data": {
            "text/plain": [
              "numpy.ndarray"
            ]
          },
          "metadata": {},
          "execution_count": 28
        }
      ]
    },
    {
      "cell_type": "markdown",
      "source": [
        "La indexación para arreglos unidemiensionales es igual que para las cadenas de caracteres"
      ],
      "metadata": {
        "id": "wSKUlz0VbzNt"
      },
      "id": "wSKUlz0VbzNt"
    },
    {
      "cell_type": "code",
      "source": [
        "X[0]"
      ],
      "metadata": {
        "colab": {
          "base_uri": "https://localhost:8080/"
        },
        "id": "sbydR5Mbbuma",
        "outputId": "ed93a6e4-66ea-426a-ad17-295336c0c64e"
      },
      "id": "sbydR5Mbbuma",
      "execution_count": null,
      "outputs": [
        {
          "output_type": "execute_result",
          "data": {
            "text/plain": [
              "14.0"
            ]
          },
          "metadata": {},
          "execution_count": 29
        }
      ]
    },
    {
      "cell_type": "code",
      "source": [
        "X[-1]"
      ],
      "metadata": {
        "colab": {
          "base_uri": "https://localhost:8080/"
        },
        "id": "ZQ_bMC0bywsL",
        "outputId": "4d6406fc-0dff-4924-ef1c-92afc0a9ae8c"
      },
      "id": "ZQ_bMC0bywsL",
      "execution_count": null,
      "outputs": [
        {
          "output_type": "execute_result",
          "data": {
            "text/plain": [
              "7.25"
            ]
          },
          "metadata": {},
          "execution_count": 30
        }
      ]
    },
    {
      "cell_type": "code",
      "source": [
        "len(X)"
      ],
      "metadata": {
        "colab": {
          "base_uri": "https://localhost:8080/"
        },
        "id": "LpzHmOdUcBqK",
        "outputId": "2b0f5ef7-1bbf-4902-90ed-ab62500bb869"
      },
      "id": "LpzHmOdUcBqK",
      "execution_count": null,
      "outputs": [
        {
          "output_type": "execute_result",
          "data": {
            "text/plain": [
              "8"
            ]
          },
          "metadata": {},
          "execution_count": 31
        }
      ]
    },
    {
      "cell_type": "code",
      "source": [
        "X[2:6]"
      ],
      "metadata": {
        "colab": {
          "base_uri": "https://localhost:8080/"
        },
        "id": "lCZqvdf5cDNr",
        "outputId": "ed6f6510-89b3-4f7a-a64a-d02448bedd88"
      },
      "id": "lCZqvdf5cDNr",
      "execution_count": null,
      "outputs": [
        {
          "output_type": "execute_result",
          "data": {
            "text/plain": [
              "array([8.  , 7.  , 6.41, 5.23])"
            ]
          },
          "metadata": {},
          "execution_count": 33
        }
      ]
    },
    {
      "cell_type": "code",
      "source": [
        "len(X)"
      ],
      "metadata": {
        "colab": {
          "base_uri": "https://localhost:8080/"
        },
        "id": "xOBTZrOZcG38",
        "outputId": "2ae71163-01e0-4a89-fb6a-8272364f9f93"
      },
      "id": "xOBTZrOZcG38",
      "execution_count": null,
      "outputs": [
        {
          "output_type": "execute_result",
          "data": {
            "text/plain": [
              "8"
            ]
          },
          "metadata": {},
          "execution_count": 34
        }
      ]
    },
    {
      "cell_type": "markdown",
      "source": [
        "En la unidad 4 se verá en detalle la creación y manipulación de arreglos"
      ],
      "metadata": {
        "id": "c7yQimgLcRgl"
      },
      "id": "c7yQimgLcRgl"
    },
    {
      "cell_type": "markdown",
      "source": [
        "### <font color='46B8A9'> **Arreglos bidimensionales:** matrices </font>\n",
        "\n",
        "En este caso los datos numéricos están organizados tipo tabla, y se usan dos dimensiones, conocidas como filas (horizontales) y columnas (verticales)."
      ],
      "metadata": {
        "id": "YSIQ9hsMcYNU"
      },
      "id": "YSIQ9hsMcYNU"
    },
    {
      "cell_type": "code",
      "source": [
        "Matriz_1 = np.array([[23,78,100],[67,99,45],[1,74,325],[22,10,20]])\n",
        "Matriz_1"
      ],
      "metadata": {
        "colab": {
          "base_uri": "https://localhost:8080/"
        },
        "id": "9J0onoZ3cpq0",
        "outputId": "588ce0c1-a513-4507-9e55-76902a494ae1"
      },
      "id": "9J0onoZ3cpq0",
      "execution_count": null,
      "outputs": [
        {
          "output_type": "execute_result",
          "data": {
            "text/plain": [
              "array([[ 23,  78, 100],\n",
              "       [ 67,  99,  45],\n",
              "       [  1,  74, 325],\n",
              "       [ 22,  10,  20]])"
            ]
          },
          "metadata": {},
          "execution_count": 35
        }
      ]
    },
    {
      "cell_type": "markdown",
      "source": [
        "La indexación en arreglos bidimensionales se realiza usando dos índices: en primer lugar se indica la fila (`i`), y en segundo lugar la columna (`j`)."
      ],
      "metadata": {
        "id": "CFeWPIPadBVm"
      },
      "id": "CFeWPIPadBVm"
    },
    {
      "cell_type": "code",
      "source": [
        "Matriz_1[0,1]"
      ],
      "metadata": {
        "colab": {
          "base_uri": "https://localhost:8080/"
        },
        "id": "Mv-rUyPic5-a",
        "outputId": "450650c5-59d9-44c3-c224-841087cedf49"
      },
      "id": "Mv-rUyPic5-a",
      "execution_count": null,
      "outputs": [
        {
          "output_type": "execute_result",
          "data": {
            "text/plain": [
              "78"
            ]
          },
          "metadata": {},
          "execution_count": 36
        }
      ]
    },
    {
      "cell_type": "code",
      "source": [
        "Matriz_1[2,2]"
      ],
      "metadata": {
        "colab": {
          "base_uri": "https://localhost:8080/"
        },
        "id": "WyclbAibcE4f",
        "outputId": "0909ce10-e246-41e3-86f1-0151739cac49"
      },
      "id": "WyclbAibcE4f",
      "execution_count": null,
      "outputs": [
        {
          "output_type": "execute_result",
          "data": {
            "text/plain": [
              "325"
            ]
          },
          "metadata": {},
          "execution_count": 37
        }
      ]
    },
    {
      "cell_type": "markdown",
      "source": [
        "De nuevo, se puede usar indexación inversa:"
      ],
      "metadata": {
        "id": "BN6oIPrSdY4k"
      },
      "id": "BN6oIPrSdY4k"
    },
    {
      "cell_type": "code",
      "source": [
        "Matriz_1[-1,-2]"
      ],
      "metadata": {
        "colab": {
          "base_uri": "https://localhost:8080/"
        },
        "id": "4M5ME2TfdU5P",
        "outputId": "04bb7be7-fe48-4481-f01e-ae62a3fc71c6"
      },
      "id": "4M5ME2TfdU5P",
      "execution_count": null,
      "outputs": [
        {
          "output_type": "execute_result",
          "data": {
            "text/plain": [
              "10"
            ]
          },
          "metadata": {},
          "execution_count": 38
        }
      ]
    },
    {
      "cell_type": "markdown",
      "source": [
        "### <font color='46B8A9'> **Arreglos tridimensionales:** hipermatrices </font>"
      ],
      "metadata": {
        "id": "DmopgyfFdiHr"
      },
      "id": "DmopgyfFdiHr"
    },
    {
      "cell_type": "code",
      "source": [
        "HM = np.array([[[1, 2],[3, 5]],[[4, 9],[6, -4]],[[0, 7],[14, 35]]])\n",
        "HM"
      ],
      "metadata": {
        "colab": {
          "base_uri": "https://localhost:8080/"
        },
        "id": "yj2xp4P8dXJw",
        "outputId": "03056465-7655-42b9-d2fb-60ce3a3156ea"
      },
      "id": "yj2xp4P8dXJw",
      "execution_count": null,
      "outputs": [
        {
          "output_type": "execute_result",
          "data": {
            "text/plain": [
              "array([[[ 1,  2],\n",
              "        [ 3,  5]],\n",
              "\n",
              "       [[ 4,  9],\n",
              "        [ 6, -4]],\n",
              "\n",
              "       [[ 0,  7],\n",
              "        [14, 35]]])"
            ]
          },
          "metadata": {},
          "execution_count": 39
        }
      ]
    },
    {
      "cell_type": "markdown",
      "source": [
        "Si se indica un único índice, éste se refiere a la matriz dentro de la hipermatriz:"
      ],
      "metadata": {
        "id": "d8QC_UQUeXVB"
      },
      "id": "d8QC_UQUeXVB"
    },
    {
      "cell_type": "code",
      "source": [
        "HM[1]"
      ],
      "metadata": {
        "colab": {
          "base_uri": "https://localhost:8080/"
        },
        "id": "nxP6Wcm0eQmk",
        "outputId": "336940ff-98a7-4134-b907-9cee0961e2f2"
      },
      "id": "nxP6Wcm0eQmk",
      "execution_count": null,
      "outputs": [
        {
          "output_type": "execute_result",
          "data": {
            "text/plain": [
              "array([[ 4,  9],\n",
              "       [ 6, -4]])"
            ]
          },
          "metadata": {},
          "execution_count": 41
        }
      ]
    },
    {
      "cell_type": "markdown",
      "source": [
        "En este caso se requieren tres indices para indexar un elemento en el arreglo: primero la matriz (`k`), luego la fila (`i`), y finalmente la columna (`j`)."
      ],
      "metadata": {
        "id": "AekogcWmd-SA"
      },
      "id": "AekogcWmd-SA"
    },
    {
      "cell_type": "code",
      "source": [
        "HM[1,1,1]"
      ],
      "metadata": {
        "colab": {
          "base_uri": "https://localhost:8080/"
        },
        "id": "w2hdjr74d8vp",
        "outputId": "8bce1ab6-5a5b-4a31-8b63-4c21aae89b07"
      },
      "id": "w2hdjr74d8vp",
      "execution_count": null,
      "outputs": [
        {
          "output_type": "execute_result",
          "data": {
            "text/plain": [
              "-4"
            ]
          },
          "metadata": {},
          "execution_count": 40
        }
      ]
    },
    {
      "cell_type": "code",
      "source": [
        "HM[-1,-1,-1]"
      ],
      "metadata": {
        "colab": {
          "base_uri": "https://localhost:8080/"
        },
        "id": "RJakbkWMeTs8",
        "outputId": "e801ffbc-345a-4dcb-f8b7-7323214aabdc"
      },
      "id": "RJakbkWMeTs8",
      "execution_count": null,
      "outputs": [
        {
          "output_type": "execute_result",
          "data": {
            "text/plain": [
              "35"
            ]
          },
          "metadata": {},
          "execution_count": 42
        }
      ]
    },
    {
      "cell_type": "code",
      "source": [
        "HM[-1,0,0]"
      ],
      "metadata": {
        "colab": {
          "base_uri": "https://localhost:8080/"
        },
        "id": "TdjCIQUPefqy",
        "outputId": "3887caf5-67dd-45d7-c004-31009843648f"
      },
      "id": "TdjCIQUPefqy",
      "execution_count": null,
      "outputs": [
        {
          "output_type": "execute_result",
          "data": {
            "text/plain": [
              "0"
            ]
          },
          "metadata": {},
          "execution_count": 43
        }
      ]
    },
    {
      "cell_type": "markdown",
      "source": [
        "#### <font color='#00B0F0'> **Ejercicio 2** </font>\n",
        "\n",
        "Considere la hipermatriz de tres dimensiones, \n",
        "\n",
        "> `HM = np.array([[[1, 2],[3, 5]],[[4, 9],[6, -4]],[[0, 7],[14, 35]]])`\n",
        "\n",
        "Intente imaginarla como un cubo y obtenga los valores que estarían en cada una de las 8 esquinas del cubo\n",
        "\n"
      ],
      "metadata": {
        "id": "03_2oyf48MWB"
      },
      "id": "03_2oyf48MWB"
    },
    {
      "cell_type": "code",
      "source": [
        "# Inserte aquí su respuesta\n"
      ],
      "metadata": {
        "id": "6nnQfwgy8kui"
      },
      "id": "6nnQfwgy8kui",
      "execution_count": null,
      "outputs": []
    },
    {
      "cell_type": "markdown",
      "source": [
        "## <font color='157699'> **Registros:** Estructuras heterogéneas </font>\n",
        "\n",
        "Este tipo de estructuras pueden contener datos de diferentes tipos: cadenas de caracteres, numéricos, lógicos, etc. Incluso es posible anidar unas estructuras de datos dentro otras.\n",
        "\n",
        "En Python las estructuras de datos más comunes de este tipo son las listas, tuplas y diccionarios."
      ],
      "metadata": {
        "id": "JPx3HKSBeqHx"
      },
      "id": "JPx3HKSBeqHx"
    },
    {
      "cell_type": "markdown",
      "source": [
        "### <font color='46B8A9'> **Listas** </font>\n",
        "\n",
        "Son estructuras unidimensionales, mutables (se puede cambiar el valor de sus elementos de forma independiente), y permiten anidar otras estructuras de datos. En la unidad 4 se verá en detalle la creación y manipulación de este tipo de estructuras."
      ],
      "metadata": {
        "id": "HdWqV7hcfEfJ"
      },
      "id": "HdWqV7hcfEfJ"
    },
    {
      "cell_type": "code",
      "source": [
        "# Se crean usando corchetes [ ]\n",
        "lista_1 = [14, 'Carlos Mario', Matriz_1, X]\n",
        "lista_1"
      ],
      "metadata": {
        "colab": {
          "base_uri": "https://localhost:8080/"
        },
        "id": "_23Tr9o0fUkb",
        "outputId": "63156fce-7a0f-4616-dc83-71acaf97bbf3"
      },
      "id": "_23Tr9o0fUkb",
      "execution_count": null,
      "outputs": [
        {
          "output_type": "execute_result",
          "data": {
            "text/plain": [
              "[14, 'Carlos Mario', array([[ 23,  78, 100],\n",
              "        [ 67,  99,  45],\n",
              "        [  1,  74, 325],\n",
              "        [ 22,  10,  20]]), array([14.  , 12.  ,  8.  ,  7.  ,  6.41,  5.23,  6.15,  7.25])]"
            ]
          },
          "metadata": {},
          "execution_count": 47
        }
      ]
    },
    {
      "cell_type": "code",
      "source": [
        "lista_1[0]"
      ],
      "metadata": {
        "colab": {
          "base_uri": "https://localhost:8080/"
        },
        "id": "wp78wGPYfCOn",
        "outputId": "bbfc286a-460e-4da5-8976-fb699265c174"
      },
      "id": "wp78wGPYfCOn",
      "execution_count": null,
      "outputs": [
        {
          "output_type": "execute_result",
          "data": {
            "text/plain": [
              "14"
            ]
          },
          "metadata": {},
          "execution_count": 45
        }
      ]
    },
    {
      "cell_type": "code",
      "source": [
        "lista_1[1]"
      ],
      "metadata": {
        "colab": {
          "base_uri": "https://localhost:8080/",
          "height": 35
        },
        "id": "XWmyuSBTelZK",
        "outputId": "15cf4ddf-06d7-47fe-ae3b-9e85f8d7ed85"
      },
      "id": "XWmyuSBTelZK",
      "execution_count": null,
      "outputs": [
        {
          "output_type": "execute_result",
          "data": {
            "text/plain": [
              "'Carlos Mario'"
            ],
            "application/vnd.google.colaboratory.intrinsic+json": {
              "type": "string"
            }
          },
          "metadata": {},
          "execution_count": 48
        }
      ]
    },
    {
      "cell_type": "markdown",
      "source": [
        "En la indexación, cuando no se escribe después de los dos puntos (`:`), se incluyen los elementos de la estructura de datos hasta el final de ésta:"
      ],
      "metadata": {
        "id": "muTe6hx3f2Xf"
      },
      "id": "muTe6hx3f2Xf"
    },
    {
      "cell_type": "code",
      "source": [
        "lista_1[1][-5:]"
      ],
      "metadata": {
        "colab": {
          "base_uri": "https://localhost:8080/",
          "height": 35
        },
        "id": "jCzB6810fllB",
        "outputId": "f0c8804e-54d7-4e3c-cd80-93ed5328eba0"
      },
      "id": "jCzB6810fllB",
      "execution_count": null,
      "outputs": [
        {
          "output_type": "execute_result",
          "data": {
            "text/plain": [
              "'Mario'"
            ],
            "application/vnd.google.colaboratory.intrinsic+json": {
              "type": "string"
            }
          },
          "metadata": {},
          "execution_count": 52
        }
      ]
    },
    {
      "cell_type": "code",
      "source": [
        "lista_1[2]"
      ],
      "metadata": {
        "colab": {
          "base_uri": "https://localhost:8080/"
        },
        "id": "cVs7w9rufsHI",
        "outputId": "3546e333-1db6-496d-abb5-e424bd444966"
      },
      "id": "cVs7w9rufsHI",
      "execution_count": null,
      "outputs": [
        {
          "output_type": "execute_result",
          "data": {
            "text/plain": [
              "array([[ 23,  78, 100],\n",
              "       [ 67,  99,  45],\n",
              "       [  1,  74, 325],\n",
              "       [ 22,  10,  20]])"
            ]
          },
          "metadata": {},
          "execution_count": 53
        }
      ]
    },
    {
      "cell_type": "code",
      "source": [
        "lista_1[2][1,:]"
      ],
      "metadata": {
        "colab": {
          "base_uri": "https://localhost:8080/"
        },
        "id": "R_8-s4ltgBEI",
        "outputId": "e7c3c21a-7dcd-458c-d242-d7e091df7854"
      },
      "id": "R_8-s4ltgBEI",
      "execution_count": null,
      "outputs": [
        {
          "output_type": "execute_result",
          "data": {
            "text/plain": [
              "array([67, 99, 45])"
            ]
          },
          "metadata": {},
          "execution_count": 56
        }
      ]
    },
    {
      "cell_type": "code",
      "source": [
        "lista_1[3]"
      ],
      "metadata": {
        "colab": {
          "base_uri": "https://localhost:8080/"
        },
        "id": "ArjbVmjPgDwR",
        "outputId": "48d5d5d0-2641-4bef-bde2-f6979158e910"
      },
      "id": "ArjbVmjPgDwR",
      "execution_count": null,
      "outputs": [
        {
          "output_type": "execute_result",
          "data": {
            "text/plain": [
              "array([14.  , 12.  ,  8.  ,  7.  ,  6.41,  5.23,  6.15,  7.25])"
            ]
          },
          "metadata": {},
          "execution_count": 55
        }
      ]
    },
    {
      "cell_type": "code",
      "source": [
        "lista_1[3][::-1]"
      ],
      "metadata": {
        "colab": {
          "base_uri": "https://localhost:8080/"
        },
        "id": "iLP1-MIugFco",
        "outputId": "cca28cf5-a853-42f0-896a-f7b3eb15aff9"
      },
      "id": "iLP1-MIugFco",
      "execution_count": null,
      "outputs": [
        {
          "output_type": "execute_result",
          "data": {
            "text/plain": [
              "array([ 7.25,  6.15,  5.23,  6.41,  7.  ,  8.  , 12.  , 14.  ])"
            ]
          },
          "metadata": {},
          "execution_count": 57
        }
      ]
    },
    {
      "cell_type": "code",
      "source": [
        "lista_1[0] = [1, 2, 3]\n",
        "lista_1"
      ],
      "metadata": {
        "colab": {
          "base_uri": "https://localhost:8080/"
        },
        "id": "LQyQGDEkgXNG",
        "outputId": "3befb904-8993-4c34-c67c-cde69faa3393"
      },
      "id": "LQyQGDEkgXNG",
      "execution_count": null,
      "outputs": [
        {
          "output_type": "execute_result",
          "data": {
            "text/plain": [
              "[[1, 2, 3], 'Carlos Mario', array([[ 23,  78, 100],\n",
              "        [ 67,  99,  45],\n",
              "        [  1,  74, 325],\n",
              "        [ 22,  10,  20]]), array([14.  , 12.  ,  8.  ,  7.  ,  6.41,  5.23,  6.15,  7.25])]"
            ]
          },
          "metadata": {},
          "execution_count": 58
        }
      ]
    },
    {
      "cell_type": "markdown",
      "source": [
        "### <font color='46B8A9'> **Tuplas** </font>\n",
        "Son similares a las listas, excepto que son inmutables, es decir, que no se permite modificar sus elementos:"
      ],
      "metadata": {
        "id": "xqKXCvougVAM"
      },
      "id": "xqKXCvougVAM"
    },
    {
      "cell_type": "code",
      "source": [
        "# Se deben crear usando paréntesis\n",
        "tupla_1 = (14, 'Carlos Mario', Matriz_1, X)\n",
        "tupla_1"
      ],
      "metadata": {
        "colab": {
          "base_uri": "https://localhost:8080/"
        },
        "id": "0MZMjcXcgPx-",
        "outputId": "8ef537b7-4c01-41f7-fd80-7c47086e2c9b"
      },
      "id": "0MZMjcXcgPx-",
      "execution_count": null,
      "outputs": [
        {
          "output_type": "execute_result",
          "data": {
            "text/plain": [
              "(14, 'Carlos Mario', array([[ 23,  78, 100],\n",
              "        [ 67,  99,  45],\n",
              "        [  1,  74, 325],\n",
              "        [ 22,  10,  20]]), array([14.  , 12.  ,  8.  ,  7.  ,  6.41,  5.23,  6.15,  7.25]))"
            ]
          },
          "metadata": {},
          "execution_count": 59
        }
      ]
    },
    {
      "cell_type": "code",
      "source": [
        "tupla_1[0]"
      ],
      "metadata": {
        "colab": {
          "base_uri": "https://localhost:8080/"
        },
        "id": "6h6jM17Mgshu",
        "outputId": "fd952a73-420e-4fba-b6f8-233fab8ae844"
      },
      "id": "6h6jM17Mgshu",
      "execution_count": null,
      "outputs": [
        {
          "output_type": "execute_result",
          "data": {
            "text/plain": [
              "14"
            ]
          },
          "metadata": {},
          "execution_count": 60
        }
      ]
    },
    {
      "cell_type": "code",
      "source": [
        "tupla_1[2]"
      ],
      "metadata": {
        "colab": {
          "base_uri": "https://localhost:8080/"
        },
        "id": "EJHC19cZguq9",
        "outputId": "7cae25db-2859-4c1a-bf3c-0b29bfbdfd45"
      },
      "id": "EJHC19cZguq9",
      "execution_count": null,
      "outputs": [
        {
          "output_type": "execute_result",
          "data": {
            "text/plain": [
              "array([[ 23,  78, 100],\n",
              "       [ 67,  99,  45],\n",
              "       [  1,  74, 325],\n",
              "       [ 22,  10,  20]])"
            ]
          },
          "metadata": {},
          "execution_count": 61
        }
      ]
    },
    {
      "cell_type": "code",
      "source": [
        "#Las tuplas son inmutables, por lo tanto, la siguiente linea no deberia ejecutar.\n",
        "tupla_1[0] = 5"
      ],
      "metadata": {
        "id": "rZ7ZuCe-gx_h"
      },
      "id": "rZ7ZuCe-gx_h",
      "execution_count": null,
      "outputs": []
    },
    {
      "cell_type": "markdown",
      "source": [
        "### <font color='46B8A9'> **Diccionarios** </font>\n",
        "\n",
        "Son una estructura similar a las listas, pero sin un orden dado por índices. En este caso cada elemento consta de dos partes: `clave:valor`, donde la clave es un identificador, que hace las veces de índice, pero que puede ser una variable de tipo numérico o de otro tipo, y el valor puede ser también de cualquier tipo de dato. Se crean usando llaves: `{ }`."
      ],
      "metadata": {
        "id": "aH2pymLxg0_D"
      },
      "id": "aH2pymLxg0_D"
    },
    {
      "cell_type": "code",
      "source": [
        "dicc_1 = {'Nombre':'Pedro', 'Apellido':'Jiménez', 'Identificación':123456789, 'Edad':21, 127:'Clave numérica'}\n",
        "dicc_1"
      ],
      "metadata": {
        "colab": {
          "base_uri": "https://localhost:8080/"
        },
        "id": "9MKr2FODhQEO",
        "outputId": "f644e269-304c-4624-9231-8d11591b0e53"
      },
      "id": "9MKr2FODhQEO",
      "execution_count": null,
      "outputs": [
        {
          "output_type": "execute_result",
          "data": {
            "text/plain": [
              "{'Nombre': 'Pedro',\n",
              " 'Apellido': 'Jiménez',\n",
              " 'Identificación': 123456789,\n",
              " 'Edad': 21,\n",
              " 127: 'Clave numérica'}"
            ]
          },
          "metadata": {},
          "execution_count": 63
        }
      ]
    },
    {
      "cell_type": "code",
      "source": [
        "dicc_1['Nombre']"
      ],
      "metadata": {
        "colab": {
          "base_uri": "https://localhost:8080/",
          "height": 35
        },
        "id": "nBGdKo2MgzoC",
        "outputId": "33f6a06e-202f-4188-e461-849167a7f0a4"
      },
      "id": "nBGdKo2MgzoC",
      "execution_count": null,
      "outputs": [
        {
          "output_type": "execute_result",
          "data": {
            "text/plain": [
              "'Pedro'"
            ],
            "application/vnd.google.colaboratory.intrinsic+json": {
              "type": "string"
            }
          },
          "metadata": {},
          "execution_count": 65
        }
      ]
    },
    {
      "cell_type": "code",
      "source": [
        "dicc_1['Identificación']"
      ],
      "metadata": {
        "colab": {
          "base_uri": "https://localhost:8080/"
        },
        "id": "c9D-JzSYh2AU",
        "outputId": "5b6cc1ed-8c59-4c45-92fa-a175f0bd7d15"
      },
      "id": "c9D-JzSYh2AU",
      "execution_count": null,
      "outputs": [
        {
          "output_type": "execute_result",
          "data": {
            "text/plain": [
              "123456789"
            ]
          },
          "metadata": {},
          "execution_count": 67
        }
      ]
    },
    {
      "cell_type": "code",
      "source": [
        "dicc_1['Apellido']"
      ],
      "metadata": {
        "colab": {
          "base_uri": "https://localhost:8080/",
          "height": 35
        },
        "id": "NSxcGv21h8-h",
        "outputId": "134715dd-8e1c-4d10-f3a8-17d4a5d7f1ed"
      },
      "id": "NSxcGv21h8-h",
      "execution_count": null,
      "outputs": [
        {
          "output_type": "execute_result",
          "data": {
            "text/plain": [
              "'Jiménez'"
            ],
            "application/vnd.google.colaboratory.intrinsic+json": {
              "type": "string"
            }
          },
          "metadata": {},
          "execution_count": 68
        }
      ]
    },
    {
      "cell_type": "code",
      "source": [
        "dicc_1[127]"
      ],
      "metadata": {
        "colab": {
          "base_uri": "https://localhost:8080/",
          "height": 35
        },
        "id": "xPeYMLfoiB86",
        "outputId": "8d300d77-5f73-4f5d-aac2-4345d5a483c6"
      },
      "id": "xPeYMLfoiB86",
      "execution_count": null,
      "outputs": [
        {
          "output_type": "execute_result",
          "data": {
            "text/plain": [
              "'Clave numérica'"
            ],
            "application/vnd.google.colaboratory.intrinsic+json": {
              "type": "string"
            }
          },
          "metadata": {},
          "execution_count": 69
        }
      ]
    },
    {
      "cell_type": "markdown",
      "source": [
        "En esta última celda se evidencia la diferencia con las otras estructuras de datos, ya que 127 no es un índice, sino la clave, cuyo valor es la cadena de caracteres \"Clave numérica\""
      ],
      "metadata": {
        "id": "qW4knObJiE4A"
      },
      "id": "qW4knObJiE4A"
    },
    {
      "cell_type": "code",
      "source": [
        "len(dicc_1)"
      ],
      "metadata": {
        "colab": {
          "base_uri": "https://localhost:8080/"
        },
        "id": "BD395X6iiSc3",
        "outputId": "4575237a-c756-4110-9bcb-4abf78fbca32"
      },
      "id": "BD395X6iiSc3",
      "execution_count": null,
      "outputs": [
        {
          "output_type": "execute_result",
          "data": {
            "text/plain": [
              "5"
            ]
          },
          "metadata": {},
          "execution_count": 70
        }
      ]
    },
    {
      "cell_type": "markdown",
      "source": [
        "## <font color='157699'> **Ejercicios** </font>"
      ],
      "metadata": {
        "id": "P2S-sB8d8-Ly"
      },
      "id": "P2S-sB8d8-Ly"
    },
    {
      "cell_type": "markdown",
      "source": [
        "#### <font color='#00B0F0'> **Ejercicio 3** </font>\n",
        "\n",
        "Cree una lista con todas las asignaturas que esta cursando este semestre"
      ],
      "metadata": {
        "id": "bit0WpEz1Guq"
      },
      "id": "bit0WpEz1Guq"
    },
    {
      "cell_type": "code",
      "source": [
        "# Inserte su respuesta aquí"
      ],
      "metadata": {
        "id": "jI4F1vCp9XlN"
      },
      "id": "jI4F1vCp9XlN",
      "execution_count": null,
      "outputs": []
    },
    {
      "cell_type": "markdown",
      "source": [
        "#### <font color='#00B0F0'> **Ejercicio 4** </font>\n",
        "\n",
        "Para las asignaturas que cursa este semestre, cree una lista de tuplas, donde cada tuplas es el nombre de la asignatura y los créditos que le corresponden"
      ],
      "metadata": {
        "id": "lwU9ak6l93UC"
      },
      "id": "lwU9ak6l93UC"
    },
    {
      "cell_type": "code",
      "source": [
        "# Inserte su código aquí"
      ],
      "metadata": {
        "id": "nGVrVHrD92E7"
      },
      "id": "nGVrVHrD92E7",
      "execution_count": null,
      "outputs": []
    },
    {
      "cell_type": "markdown",
      "source": [
        "#### <font color='#00B0F0'> **Ejercicio 5** </font>\n",
        "\n",
        "Para las asignaturas que cursa este semestre, cree un diccionario, donde las claves son los códigos de la asignatura que esta cursando y el valor es el nombre de la asignatura"
      ],
      "metadata": {
        "id": "zQCqs5qV-VIz"
      },
      "id": "zQCqs5qV-VIz"
    },
    {
      "cell_type": "code",
      "source": [
        "# Inserte su código aquí"
      ],
      "metadata": {
        "id": "bxFzuXIc-hmq"
      },
      "id": "bxFzuXIc-hmq",
      "execution_count": null,
      "outputs": []
    }
  ],
  "metadata": {
    "kernelspec": {
      "display_name": "Python 3 (ipykernel)",
      "language": "python",
      "name": "python3"
    },
    "language_info": {
      "codemirror_mode": {
        "name": "ipython",
        "version": 3
      },
      "file_extension": ".py",
      "mimetype": "text/x-python",
      "name": "python",
      "nbconvert_exporter": "python",
      "pygments_lexer": "ipython3",
      "version": "3.9.7"
    },
    "colab": {
      "provenance": [],
      "toc_visible": true
    }
  },
  "nbformat": 4,
  "nbformat_minor": 5
}